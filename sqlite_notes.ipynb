{
 "cells": [
  {
   "cell_type": "markdown",
   "id": "26641c38-db53-4712-86bb-9d08f10a0508",
   "metadata": {},
   "source": [
    "# SQLite w/ python"
   ]
  },
  {
   "cell_type": "markdown",
   "id": "02895732-ea0c-410e-96f1-f780c2c6e324",
   "metadata": {},
   "source": [
    "As title, in this I'll go over what I'm learning w/ SQL. It's best to do some notetaking here "
   ]
  },
  {
   "cell_type": "markdown",
   "id": "bc92e1dc-80b9-4234-8e44-2422d23c2387",
   "metadata": {},
   "source": [
    "To do list:  \n",
    "[x]SELECT \\\n",
    "[x]SELECT DISTINCT\\\n",
    "[x]INSERT INTO table\\\n",
    "[x]INSERT INTO table using qmarks\\\n",
    "[x]INSERT INTO table using names \\\n",
    "[x]UPDATING table\\\n",
    "[x]DELETING from table\\\n",
    "[]EXECUTE many commands in one go \\\n",
    "[x]USING WHERE TO SPECIFY CONDITIONS \\\n",
    "[x]AGGREGATE data\\\n",
    "[x]combine WHERE & AGGREGATION\\\n",
    "[]CREATE a inventory project\\\n",
    "[]Use subqueries \\\n",
    "[]Use limit\\\n",
    "[] Use not/<>\\\n",
    "[]use Like\\\n",
    "[]use IN\\\n",
    "[] Between\\\n",
    "[] Order by\\ \n",
    "[] Alias\\\n",
    "[] Delete a table\\\n",
    "[] use sql functions\\\n",
    "    [] string functions  \n",
    "        [] lower\\\n",
    "        [] upper\\\n",
    "        [] trim\\\n",
    "        [] substring\\\n",
    "    [] Number functions\\\n",
    "        [] Round\\\n",
    "        [] Floor\\\n",
    "        [] Ceil\\\n",
    "    [] Dates\\\n",
    "        [] Dateadd\\\n",
    "        [] Datediff\\\n",
    "        []DatePart \\\n",
    "        []Format \\\n",
    "        [] GetDate\\\n",
    "        [] Extract\\\n",
    "            [] Year\\\n",
    "            [] Month\\\n",
    "            [] Day\\\n",
    "        [] Is Date\\\n",
    "    [] Logical Functions\\\n",
    "        [] Coalesce\\\n",
    "        [] Nulif\\\n",
    "    [] Conversions\\\n",
    "        [] Cast\\\n",
    "        [] Convert\\\n",
    "[] Add autoIncrement\\\n",
    "[] Edit existing table\\\n",
    "[] Check for null\\ "
   ]
  },
  {
   "cell_type": "markdown",
   "id": "86009fd0-36d5-4884-9771-f154e75b3cb8",
   "metadata": {},
   "source": [
    "## Importing sqlite"
   ]
  },
  {
   "cell_type": "markdown",
   "id": "596ad5e2-46f5-4c3e-846e-1e4211c9737b",
   "metadata": {},
   "source": [
    "As a really light and performant application, sqlite is easily added to many things and as a battery included language, python is reliable in that it has sqlite built in. It just needs to be imported"
   ]
  },
  {
   "cell_type": "code",
   "execution_count": 2,
   "id": "02cd1af0-4f1f-487e-ba7d-f02483aa7e2c",
   "metadata": {},
   "outputs": [],
   "source": [
    "import sqlite3"
   ]
  },
  {
   "cell_type": "markdown",
   "id": "7a6f528f-c1e1-479f-bb38-c901d677a388",
   "metadata": {},
   "source": [
    "### Creating a db"
   ]
  },
  {
   "cell_type": "markdown",
   "id": "1fbb8da3-7ec2-4389-81b5-c6e90d345203",
   "metadata": {},
   "source": [
    "All sqlite dbs are files. To create one the syntax is:"
   ]
  },
  {
   "cell_type": "code",
   "execution_count": 7,
   "id": "5ed2d39f-3529-49a9-9d6d-44b1b7bd8571",
   "metadata": {},
   "outputs": [],
   "source": [
    "import sqlite3\n",
    "\n",
    "conn = sqlite3.connect('test.db')\n",
    "cursor = conn.cursor()\n",
    "\n",
    "cursor.execute(\"\"\"CREATE TABLE IF NOT EXISTS people(\n",
    "  first_name TEXT,\n",
    "  last_name TEXT,\n",
    "  age INTEGER\n",
    ");\n",
    "\"\"\")\n",
    "conn.commit()\n",
    "conn.close()"
   ]
  },
  {
   "cell_type": "markdown",
   "id": "2b037c88-7148-4c5e-ad5c-8753f03fb0c7",
   "metadata": {},
   "source": [
    "The above statement does multiple things\n",
    "- creates a connection to the named db `test.db`\n",
    "- creates a cursor to navigate and control db `cursor = conn.cursor()`\n",
    "- executes a create table command `cursor.execute(\"CREATE TABLE IF NOT EXISTS...)\n",
    "  - IF NOT EXISTS so duplicate tables aren't created\n",
    "  - columns are named\n",
    "    - first_name, last_name, age\n",
    "  - columns are typed\n",
    "    - TEXT & INTEGER\n",
    "  - command is ended `;`\n",
    "- connection is commited to memory `conn.commit()`\n",
    "- connection is closed `conn.close`"
   ]
  },
  {
   "cell_type": "markdown",
   "id": "947923f6-37cc-4628-b4a9-7e4acd31a7ee",
   "metadata": {},
   "source": [
    "# Accessing table data"
   ]
  },
  {
   "cell_type": "markdown",
   "id": "161bbecb-e85a-48e8-9a3a-bc38fa19c8d8",
   "metadata": {},
   "source": [
    "The data in tables are accessed with the select command"
   ]
  },
  {
   "cell_type": "code",
   "execution_count": 20,
   "id": "9fc66214-ba29-4276-b166-9b6a489b4b33",
   "metadata": {},
   "outputs": [
    {
     "name": "stdout",
     "output_type": "stream",
     "text": [
      "('Selena', 'Thomas', 25)\n",
      "('Johnny', 'Karcol', 34)\n",
      "('Samantha', 'Grey', 21)\n"
     ]
    }
   ],
   "source": [
    "import sqlite3 \n",
    "conn =  sqlite3.connect('test.db')\n",
    "cursor = conn.cursor()\n",
    "resp = cursor.execute(\"SELECT * FROM people\").fetchall()\n",
    "conn.commit()\n",
    "conn.close()\n",
    "\n",
    "for person in resp: \n",
    "    print(person)"
   ]
  },
  {
   "cell_type": "markdown",
   "id": "13026c5d-f51d-4a8f-832f-f6f54b815fd2",
   "metadata": {},
   "source": [
    "#### Noteworthy things:\n",
    "- The `execute` command is used to execute sql commands\n",
    "- `fetchall` is used to tell python to fetch all that matches given conditions\n",
    "    - otherwise the response will be nothing\n",
    "    - `fetchone` is an alternative to `fetchall` that fetches the first matching response\n",
    "    - `fetchall` puts the results in an array\n",
    "- Data is printed in loop (not very important)\n",
    "- The connection is **commited** and **closed**"
   ]
  },
  {
   "cell_type": "markdown",
   "id": "0aac1432-199d-40b6-a309-2790a23c7bef",
   "metadata": {},
   "source": [
    "Example of not using fetchall: "
   ]
  },
  {
   "cell_type": "code",
   "execution_count": 23,
   "id": "7f9a0f68-5569-47fb-ad1f-9d225d0c04b0",
   "metadata": {},
   "outputs": [
    {
     "name": "stdout",
     "output_type": "stream",
     "text": [
      "<sqlite3.Cursor object at 0x73e25c5bd6c0>\n"
     ]
    }
   ],
   "source": [
    "import sqlite3 \n",
    "conn =  sqlite3.connect('test.db')\n",
    "cursor = conn.cursor()\n",
    "resp = cursor.execute(\"SELECT * FROM people\")\n",
    "conn.commit()\n",
    "conn.close()\n",
    "print(resp)"
   ]
  },
  {
   "cell_type": "markdown",
   "id": "96bbcfff-2002-48ef-8077-99a3eb7c437c",
   "metadata": {},
   "source": [
    "Example of using `fetchone` instead of `fetchall`"
   ]
  },
  {
   "cell_type": "code",
   "execution_count": 24,
   "id": "81ff5f94-885d-4091-b475-d306b346eb74",
   "metadata": {},
   "outputs": [
    {
     "name": "stdout",
     "output_type": "stream",
     "text": [
      "('Selena', 'Thomas', 25)\n"
     ]
    }
   ],
   "source": [
    "import sqlite3 \n",
    "conn =  sqlite3.connect('test.db')\n",
    "cursor = conn.cursor()\n",
    "resp = cursor.execute(\"SELECT * FROM people\").fetchone()\n",
    "conn.commit()\n",
    "conn.close()\n",
    "print(resp)"
   ]
  },
  {
   "cell_type": "markdown",
   "id": "9550444d-a99f-4fb4-b885-3ab2d407bebc",
   "metadata": {},
   "source": [
    "- first matching response is printed"
   ]
  },
  {
   "cell_type": "markdown",
   "id": "6e86a73b-96ea-4a81-adea-72449da900a7",
   "metadata": {},
   "source": [
    "## Inserting data into sqlite w/ python"
   ]
  },
  {
   "cell_type": "code",
   "execution_count": 28,
   "id": "531bc632-00d6-4907-80e5-ceb7a73edcce",
   "metadata": {},
   "outputs": [
    {
     "name": "stdout",
     "output_type": "stream",
     "text": [
      "[('Selena', 'Thomas', 25), ('Johnny', 'Karcol', 34), ('Samantha', 'Grey', 21), ('Jeremy', 'Beremy', 40)]\n"
     ]
    }
   ],
   "source": [
    "import sqlite3 \n",
    "conn =  sqlite3.connect('test.db')\n",
    "cursor = conn.cursor()\n",
    "\n",
    "cursor.execute(\"\"\"INSERT INTO people(first_name,last_name,age) --gives structure to insert(optional)\n",
    "VALUES('Jeremy','Beremy',40)\n",
    "\"\"\") \n",
    "response = cursor.execute(\"SELECT first_name,last_name,age FROM people\").fetchall()\n",
    "print(response)\n",
    "conn.commit()\n",
    "conn.close()"
   ]
  },
  {
   "cell_type": "markdown",
   "id": "db1a3c40-94d5-4d30-89e4-b974fecfe077",
   "metadata": {},
   "source": [
    "#### Noteworthy things: \n",
    "- `INSERT INTO` the keyword for inserts\n",
    "- `people` name of table to insert into\n",
    "- `people(first_name,last_name,age)` lists the columns to retrieve\n",
    "    - it's not necessary to list columns\n",
    "        - instead `INSERT INTO PEOPLE VALUES('Jeremy', 'Beremy',40)` would've been valid\n",
    "        - Not listing columns runs the risk of having errors\n",
    "            - the data is given no clear structure so given data in the wrong order could throw an error\n",
    "            - having the structure makes it so as long as your data follows the given structure, the order isn't restricted\n",
    "- `fetchall` is used to return an array of matching rows\n",
    "- connection is commited\n",
    "- connection is closed"
   ]
  },
  {
   "cell_type": "markdown",
   "id": "ca87d83f-dcfc-47c3-ae30-4049c935c99c",
   "metadata": {},
   "source": [
    "## Alt way of writing connection executions to autoclose connection"
   ]
  },
  {
   "cell_type": "code",
   "execution_count": 2,
   "id": "c04b985b-c222-4c54-b91d-0d99d0ab710c",
   "metadata": {},
   "outputs": [
    {
     "name": "stdout",
     "output_type": "stream",
     "text": [
      "[('Selena', 'Thomas', 25), ('Johnny', 'Karcol', 34), ('Samantha', 'Grey', 21), ('Jeremy', 'Beremy', 40)]\n"
     ]
    }
   ],
   "source": [
    "import sqlite3 \n",
    "conn =  sqlite3.connect('test.db')\n",
    "\n",
    "with conn:\n",
    "    cursor = conn.cursor()\n",
    "    print(cursor.execute(\"SELECT * FROM people\").fetchall())\n",
    "    conn.commit()"
   ]
  },
  {
   "cell_type": "markdown",
   "id": "653a1dfb-ac9b-4620-b646-8a499a345cd5",
   "metadata": {},
   "source": [
    "## Inserting alts\n",
    "> This will cover using executemany & an array of values to insert rows\n",
    "> executemany can prepare and insert multiple values with a given sequence of data"
   ]
  },
  {
   "cell_type": "code",
   "execution_count": 8,
   "id": "de598df4-5e67-43d2-8705-91ceb16029a6",
   "metadata": {},
   "outputs": [
    {
     "name": "stdout",
     "output_type": "stream",
     "text": [
      "('Selena', 'Thomas', 25)\n",
      "('Johnny', 'Karcol', 34)\n",
      "('Samantha', 'Grey', 21)\n",
      "('Jeremy', 'Beremy', 40)\n",
      "('Dora', 'Explora', 22)\n",
      "('Cindy', 'Dio', 90)\n",
      "('Bob', 'Billy', 50)\n",
      "('Dora', 'Explora', 22)\n",
      "('Cindy', 'Dio', 90)\n",
      "('Bob', 'Billy', 50)\n"
     ]
    }
   ],
   "source": [
    "import sqlite3 \n",
    "conn =  sqlite3.connect('test.db')\n",
    "\n",
    "with conn: \n",
    "    cursor = conn.cursor()\n",
    "    conn.commit()\n",
    "     many_inserts = [\n",
    "        (\"Dora\", \"Explora\", 22), \n",
    "        (\"Cindy\", \"Dio\", 90),\n",
    "        (\"Bob\", \"Billy\", 50)\n",
    "    ]\n",
    "    cursor.executemany(\"\"\"\n",
    "    INSERT INTO people (first_name,last_name,age)\n",
    "    VALUES(? ,? ,? )\n",
    "    \"\"\", many_inserts)\n",
    "    response = cursor.execute(\"SELECT first_name,last_name,age FROM people\").fetchall()\n",
    "    for person in response:\n",
    "        print(person)"
   ]
  },
  {
   "cell_type": "markdown",
   "id": "bbd9e56d-172e-4548-88d6-9807aa4b2b4f",
   "metadata": {},
   "source": [
    "#### Noteworth things here:\n",
    "- Inserting many rows at once can be done in python can be done by using the executemany\n",
    "    - syntax:\n",
    "     `cursor.executemany(\"\"\" INSERT INTO table_name (column1,column2,column3) VALUES(? ,? ,? )\"\"\", sequence)`\n",
    "        - the sequence can be for ex a list of tuples\n",
    "- `with conn:` is used to open and close the connection\n",
    "- `executemany` is used to loop through the list to insert all values at once"
   ]
  },
  {
   "cell_type": "markdown",
   "id": "cefd4423-205c-4bb9-bfd4-4f776808272b",
   "metadata": {},
   "source": [
    "## Named vs ? \n",
    "> The above example used ?s to insert values left to right\n",
    "> The ex below uses named values instead so the order matters less and the values are pulled from objects rather a tuple or list of data"
   ]
  },
  {
   "cell_type": "code",
   "execution_count": 16,
   "id": "2a775258-24b9-449c-b3f2-72997662331e",
   "metadata": {},
   "outputs": [
    {
     "name": "stdout",
     "output_type": "stream",
     "text": [
      "('Selena', 'Thomas', 25)\n",
      "('Johnny', 'Karcol', 34)\n",
      "('Samantha', 'Grey', 21)\n",
      "('Jeremy', 'Beremy', 40)\n",
      "('Dora', 'Explora', 22)\n",
      "('Cindy', 'Dio', 90)\n",
      "('Bob', 'Billy', 50)\n",
      "('Dora', 'Explora', 22)\n",
      "('Cindy', 'Dio', 90)\n",
      "('Bob', 'Billy', 50)\n",
      "('Bruce', 'Explora', 22)\n",
      "('Glorilla', 'Dio', 90)\n",
      "('Grimes', 'Billy', 50)\n"
     ]
    }
   ],
   "source": [
    "import sqlite3\n",
    "conn = sqlite3.connect('test.db')\n",
    "with conn:\n",
    "    cursor = conn.cursor()\n",
    "    many_inserts = [\n",
    "        {\"first_name\": \"Bruce\", \"last_name\": \"Explora\",\"age\": 22}, \n",
    "        {\"first_name\": \"Glorilla\", \"last_name\": \"Dio\", \"age\": 90},\n",
    "        {\"first_name\": \"Grimes\", \"last_name\": \"Billy\", \"age\": 50}\n",
    "    ]\n",
    "    cursor.executemany(\"\"\"INSERT INTO people(first_name,last_name,age) \n",
    "        VALUES(:first_name, :last_name, :age) \"\"\",many_inserts)\n",
    "    response = cursor.execute(\"SELECT first_name, last_name, age FROM people\").fetchall()\n",
    "    for person in response:\n",
    "        print(person)"
   ]
  },
  {
   "cell_type": "code",
   "execution_count": 17,
   "id": "37dfd158-ac1e-4a77-9c93-b7be55bdcaf0",
   "metadata": {},
   "outputs": [
    {
     "name": "stdout",
     "output_type": "stream",
     "text": [
      "('Selena', 'Thomas', 25)\n",
      "('Johnny', 'Karcol', 34)\n",
      "('Samantha', 'Grey', 21)\n",
      "('Jeremy', 'Beremy', 40)\n",
      "('Dora', 'Explora', 22)\n",
      "('Cindy', 'Dio', 90)\n",
      "('Bob', 'Billy', 50)\n",
      "('Dora', 'Explora', 22)\n",
      "('Cindy', 'Dio', 90)\n",
      "('Bob', 'Billy', 50)\n",
      "('Bruce', 'Explora', 22)\n",
      "('Glorilla', 'Dio', 90)\n",
      "('Grimes', 'Billy', 50)\n"
     ]
    }
   ],
   "source": [
    "import sqlite3\n",
    "conn = sqlite3.connect('test.db')\n",
    "with conn: \n",
    "    cursor = conn.cursor()\n",
    "    response = cursor.execute(\"SELECT * FROM people\").fetchall()\n",
    "    for person in response: \n",
    "        print(person)"
   ]
  },
  {
   "cell_type": "markdown",
   "id": "57f6e3a8-3d45-48e6-b5d4-f65a9d8d751d",
   "metadata": {},
   "source": [
    "## SELECT DISTINCT(Different) data\n",
    "> Select distinct is use to only select data that is different from each other"
   ]
  },
  {
   "cell_type": "markdown",
   "id": "05a556d3-40e6-4ee9-95ef-0d61ed7f4166",
   "metadata": {},
   "source": [
    "In the ex above, there are dupicates of Dora,Cindy and Bob. Let's try to only print the unique names"
   ]
  },
  {
   "cell_type": "code",
   "execution_count": 8,
   "id": "ec7abdf0-3155-4dd3-b832-27a1df941f43",
   "metadata": {},
   "outputs": [
    {
     "name": "stdout",
     "output_type": "stream",
     "text": [
      "All people:\n",
      "('Selena', 'Thomas', 25)\n",
      "('Johnny', 'Karcol', 34)\n",
      "('Samantha', 'Grey', 21)\n",
      "('Jeremy', 'Beremy', 40)\n",
      "('Dora', 'Explora', 22)\n",
      "('Cindy', 'Dio', 90)\n",
      "('Bob', 'Billy', 50)\n",
      "('Dora', 'Explora', 22)\n",
      "('Cindy', 'Dio', 90)\n",
      "('Bob', 'Billy', 50)\n",
      "('Bruce', 'Explora', 22)\n",
      "('Glorilla', 'Dio', 90)\n",
      "('Grimes', 'Billy', 50)\n",
      "('Samantha', 'Grey', 21)\n",
      "('Samantha', 'Grey', 21)\n",
      "('Samantha', 'Grey', 21)\n",
      "('Samantha', 'Grey', 21)\n",
      "('Samantha', 'Grey', 21)\n",
      "('Samantha', 'Grey', 21)\n",
      "('Samantha', 'Barnes', 25)\n",
      "('Joe', 'Barnes', 35)\n",
      "('Sarah', 'Barnes', 25)\n",
      "Distinct people\n",
      "('Selena', 'Thomas', 25)\n",
      "('Johnny', 'Karcol', 34)\n",
      "('Samantha', 'Grey', 21)\n",
      "('Jeremy', 'Beremy', 40)\n",
      "('Dora', 'Explora', 22)\n",
      "('Cindy', 'Dio', 90)\n",
      "('Bob', 'Billy', 50)\n",
      "('Bruce', 'Explora', 22)\n",
      "('Glorilla', 'Dio', 90)\n",
      "('Grimes', 'Billy', 50)\n",
      "('Samantha', 'Barnes', 25)\n",
      "('Joe', 'Barnes', 35)\n",
      "('Sarah', 'Barnes', 25)\n"
     ]
    }
   ],
   "source": [
    "import sqlite3 \n",
    "conn = sqlite3.connect('test.db')\n",
    "with conn:\n",
    "    cursor = conn.cursor()\n",
    "    sel_all = cursor.execute('SELECT first_name,last_name,age FROM people').fetchall()\n",
    "    sel_dist = cursor.execute('SELECT DISTINCT first_name,last_name,age FROM people').fetchall()\n",
    "    print(\"All people:\")\n",
    "    for person in sel_all:\n",
    "        print(person)\n",
    "    print(\"Distinct people\")\n",
    "    for person in sel_dist: \n",
    "        print(person)"
   ]
  },
  {
   "cell_type": "markdown",
   "id": "ee3b53d7-1f75-4bc3-9643-d127adc4e080",
   "metadata": {},
   "source": [
    "### Notes\n",
    "- Notice how the returned lists are all unique names"
   ]
  },
  {
   "cell_type": "code",
   "execution_count": 14,
   "id": "f64372fb-3de1-4953-bdf3-df7f3f6f742b",
   "metadata": {},
   "outputs": [
    {
     "name": "stdout",
     "output_type": "stream",
     "text": [
      "Unique last names:\n",
      "Thomas\n",
      "Karcol\n",
      "Grey\n",
      "Beremy\n",
      "Explora\n",
      "Dio\n",
      "Billy\n",
      "Barnes\n",
      "\n",
      "Unique first names:\n",
      "Selena\n",
      "Johnny\n",
      "Samantha\n",
      "Jeremy\n",
      "Dora\n",
      "Cindy\n",
      "Bob\n",
      "Bruce\n",
      "Glorilla\n",
      "Grimes\n",
      "Joe\n",
      "Sarah\n"
     ]
    }
   ],
   "source": [
    "import sqlite3 \n",
    "conn = sqlite3.connect('test.db')\n",
    "with conn: \n",
    "    cursor = conn.cursor()\n",
    "    last_names = cursor.execute('SELECT DISTINCT last_name FROM people').fetchall()\n",
    "    first_names = cursor.execute('SELECT DISTINCT first_name FROM people').fetchall()\n",
    "    ages = cursor.execute('SELECT DISTINCT age FROM people').fetchall()\n",
    "    print('Unique last names:')\n",
    "    for person in last_names:\n",
    "        print(person[0])\n",
    "    print('\\nUnique first names:')\n",
    "    for person in first_names: \n",
    "        print(person[0])"
   ]
  },
  {
   "cell_type": "markdown",
   "id": "1930781f-c080-4047-a08d-d521c0e7a7a2",
   "metadata": {},
   "source": [
    "## Updating a table \n",
    "> Let's try inserting someone then updating them "
   ]
  },
  {
   "cell_type": "code",
   "execution_count": 2,
   "id": "8084dd4a-cef9-4aae-a72c-e794764ce1be",
   "metadata": {},
   "outputs": [
    {
     "name": "stdout",
     "output_type": "stream",
     "text": [
      "Selena Thomas is 40 years old\n",
      "Selena Thomas is 69 years old\n"
     ]
    }
   ],
   "source": [
    "import sqlite3\n",
    "conn = sqlite3.connect('test.db') \n",
    "cursor = conn.cursor()\n",
    "selena_before = cursor.execute('SELECT * FROM people WHERE first_name=\"Selena\" AND last_name=\"Thomas\"').fetchone()\n",
    "print(f'{selena_before[0]} {selena_before[1]} is {selena_before[2]} years old')\n",
    "cursor.execute(\"\"\"\n",
    "UPDATE people SET age=69 WHERE first_name=\"Selena\" AND last_name=\"Thomas\";\n",
    "\"\"\")\n",
    "selena_after = cursor.execute(\"\"\"\n",
    "SELECT first_name,last_name,age FROM people WHERE first_name=\"Selena\" AND last_name=\"Thomas\"\n",
    "\"\"\").fetchone()\n",
    "print(f'{selena_after[0]} {selena_after[1]} is {selena_after[2]} years old')\n",
    "conn.commit()\n",
    "conn.close()"
   ]
  },
  {
   "cell_type": "markdown",
   "id": "2351eb1f-57df-4e6c-a101-072930ff76a3",
   "metadata": {},
   "source": [
    "In the above example, Selena is called early to show her age then updated to be 69 rather than 40\n",
    "\n",
    "Noteworthy things: \n",
    "- Selena is targetted specifically using WHERE\n",
    "    - Selena is specified using her first AND last name using the `AND` keyword\n",
    "        - the `AND` keyword allows chaining conditions requiring all to be `true`"
   ]
  },
  {
   "cell_type": "markdown",
   "id": "ae060eab-26ef-4895-8a2b-e9171ff5e523",
   "metadata": {},
   "source": [
    "## SQlite master \n",
    "> The sqlite_master is it's own db that contains information about the other table within\n",
    "> Below we'll create a basic statement to access the tables within  "
   ]
  },
  {
   "cell_type": "code",
   "execution_count": 24,
   "id": "dbaaaccc-b1e4-421f-bbba-bfb6bf0b7ded",
   "metadata": {},
   "outputs": [
    {
     "name": "stdout",
     "output_type": "stream",
     "text": [
      " \n",
      "        Type : table\n",
      "        Table_Name: people\n",
      "        name : people\n",
      "        rootpage : 2\n",
      "        Table Creation statement : CREATE TABLE people(\n",
      "               first_name TEXT,\n",
      "               last_name TEXT,\n",
      "               age INTEGER\n",
      ")\n",
      "        \n",
      " \n",
      "        Type : table\n",
      "        Table_Name: person\n",
      "        name : person\n",
      "        rootpage : 3\n",
      "        Table Creation statement : CREATE TABLE person(\n",
      "             first_name TEXT,\n",
      "             last_name TEXT,\n",
      "             age INTEGER\n",
      "           )\n",
      "        \n"
     ]
    }
   ],
   "source": [
    "import sqlite3 \n",
    "conn = sqlite3.connect('test.db') \n",
    "with conn: \n",
    "    cursor = conn.cursor()\n",
    "    response = cursor.execute(\"\"\" SELECT type,name,tbl_name,rootpage,sql FROM sqlite_master WHERE type='table';\"\"\").fetchall()\n",
    "    for table in response:\n",
    "        print(\"\"\" \n",
    "        Type : {type}\n",
    "        Table_Name: {tbl_name}\n",
    "        name : {name}\n",
    "        rootpage : {rootpage}\n",
    "        Table Creation statement : {sql}\n",
    "        \"\"\".format(type = table[0], tbl_name = table[2], name = table[1], rootpage = table[3], sql = table[4]) )\n",
    "    conn.commit()\n",
    "conn.close()"
   ]
  },
  {
   "cell_type": "markdown",
   "id": "786a3a14-3a91-4712-b7ea-3555d775ca09",
   "metadata": {},
   "source": [
    "The information above was taken from the sql_master. It provides a good amount of information such as the sql statement used to create the db object, the type of object (in this case all tables), name and table_name of the objects (the same if type of table/view), and the rootpage\n",
    "> More info on what these all are later"
   ]
  },
  {
   "cell_type": "markdown",
   "id": "8ed6b9ec-0b8e-4097-ab71-1a95cd7f33f4",
   "metadata": {},
   "source": [
    "## Deleting from table\n",
    "> Important to say we know full CRUD"
   ]
  },
  {
   "cell_type": "code",
   "execution_count": 52,
   "id": "17cca328-28c0-4ae4-b1b2-d8b687efa30f",
   "metadata": {},
   "outputs": [
    {
     "name": "stdout",
     "output_type": "stream",
     "text": [
      "All data before manipulation\n",
      "('Selena', 'Thomas', 69)\n",
      "('Johnny', 'Karcol', 34)\n",
      "('Jeremy', 'Beremy', 40)\n",
      "('Dora', 'Explora', 22)\n",
      "('Cindy', 'Dio', 90)\n",
      "('Bob', 'Billy', 50)\n",
      "('Dora', 'Explora', 22)\n",
      "('Cindy', 'Dio', 90)\n",
      "('Bob', 'Billy', 50)\n",
      "('Bruce', 'Explora', 22)\n",
      "('Glorilla', 'Dio', 90)\n",
      "('Grimes', 'Billy', 50)\n",
      "('Samantha', 'Barnes', 25)\n",
      "('Joe', 'Barnes', 35)\n",
      "('Sarah', 'Barnes', 25)\n",
      "\n",
      "Fake data needed for deletion. Creating Samantha duplicates...\n",
      "Fake data: \n",
      "('Samantha', 'Grey', 21)\n",
      "('Samantha', 'Grey', 21)\n",
      "('Samantha', 'Grey', 21)\n",
      "('Samantha', 'Grey', 21)\n",
      "('Samantha', 'Grey', 21)\n",
      "('Samantha', 'Grey', 21)\n",
      "adding...\n",
      "\n",
      "New table:\n",
      "('Selena', 'Thomas', 69)\n",
      "('Johnny', 'Karcol', 34)\n",
      "('Jeremy', 'Beremy', 40)\n",
      "('Dora', 'Explora', 22)\n",
      "('Cindy', 'Dio', 90)\n",
      "('Bob', 'Billy', 50)\n",
      "('Dora', 'Explora', 22)\n",
      "('Cindy', 'Dio', 90)\n",
      "('Bob', 'Billy', 50)\n",
      "('Bruce', 'Explora', 22)\n",
      "('Glorilla', 'Dio', 90)\n",
      "('Grimes', 'Billy', 50)\n",
      "('Samantha', 'Barnes', 25)\n",
      "('Joe', 'Barnes', 35)\n",
      "('Sarah', 'Barnes', 25)\n",
      "('Samantha', 'Grey', 21)\n",
      "('Samantha', 'Grey', 21)\n",
      "('Samantha', 'Grey', 21)\n",
      "('Samantha', 'Grey', 21)\n",
      "('Samantha', 'Grey', 21)\n",
      "('Samantha', 'Grey', 21)\n",
      "\n",
      "Time to delete!\n",
      "Deleted!\n",
      "\n",
      "After deletion\n",
      "('Selena', 'Thomas', 69)\n",
      "('Johnny', 'Karcol', 34)\n",
      "('Jeremy', 'Beremy', 40)\n",
      "('Dora', 'Explora', 22)\n",
      "('Cindy', 'Dio', 90)\n",
      "('Bob', 'Billy', 50)\n",
      "('Dora', 'Explora', 22)\n",
      "('Cindy', 'Dio', 90)\n",
      "('Bob', 'Billy', 50)\n",
      "('Bruce', 'Explora', 22)\n",
      "('Glorilla', 'Dio', 90)\n",
      "('Grimes', 'Billy', 50)\n",
      "('Samantha', 'Barnes', 25)\n",
      "('Joe', 'Barnes', 35)\n",
      "('Sarah', 'Barnes', 25)\n"
     ]
    }
   ],
   "source": [
    "import sqlite3\n",
    "conn = sqlite3.connect('test.db')\n",
    "with conn: \n",
    "    def deleteFunc():\n",
    "        deleteCursor = conn.cursor()\n",
    "        deleteCursor.execute(\"\"\"DELETE FROM people WHERE first_name='Samantha' AND last_name='Grey' AND age=21 \"\"\")\n",
    "        print('Deleted!')\n",
    "        conn.commit()\n",
    "    def getAll():\n",
    "        getAllCursor = conn.cursor()\n",
    "        response = getAllCursor.execute('SELECT * FROM people').fetchall()\n",
    "        for person in response:\n",
    "            print(person)\n",
    "            \n",
    "    cursor = conn.cursor()\n",
    "    response = cursor.execute('SELECT * FROM people').fetchall()\n",
    "    print('All data before manipulation')\n",
    "    for person in response:\n",
    "        print(person)\n",
    "\n",
    "     Samanthas = cursor.execute(\"\"\"\n",
    "    SELECT * FROM people WHERE first_name='Samantha' AND last_name = 'Grey' AND age=21\n",
    "    \"\"\").fetchall()\n",
    "    if Samanthas:\n",
    "        deleteFunc()\n",
    "    else:\n",
    "        print('\\nFake data needed for deletion. Creating Samantha duplicates...')\n",
    "        dataToAdd = [\n",
    "            ('Samantha', 'Grey', 21),\n",
    "            ('Samantha', 'Grey', 21),\n",
    "            ('Samantha', 'Grey', 21),\n",
    "            ('Samantha', 'Grey', 21),\n",
    "            ('Samantha', 'Grey', 21),\n",
    "            ('Samantha', 'Grey', 21)\n",
    "        ]\n",
    "        print('Fake data: ')\n",
    "        for samantha in dataToAdd:\n",
    "            print(samantha)\n",
    "        print('adding...')\n",
    "        cursor.executemany(\"\"\"\n",
    "        INSERT INTO people(first_name,last_name,age)\n",
    "        VALUES(?,?,?)\n",
    "        \"\"\",dataToAdd)\n",
    "        print(\"\\nNew table:\")\n",
    "        getAll()\n",
    "        print(\"\\nTime to delete!\") \n",
    "        deleteFunc()\n",
    "        \n",
    "    print('\\nAfter deletion')\n",
    "    getAll()"
   ]
  },
  {
   "cell_type": "markdown",
   "id": "a75a1ff4-e0b2-4592-a1bc-5a44e27a5e2a",
   "metadata": {},
   "source": [
    "Noteworthy stuff:\n",
    "- `DELETE FROM table_name` is the general syntax\n",
    "    - this on it's own would delete all data from the table\n",
    "    - chaining on `WHERE` w/ conditions specifies data for deletion\n",
    "- `fetchall()` is always used when fetching more than one cell of data in the table\n",
    "    - with `fetchone()` used if it's just one\n",
    "\n",
    "Also I mean this isn't important but I'm feeling pretty comfortable just writing a good amount of python and sql code since I'm still learning both"
   ]
  },
  {
   "cell_type": "markdown",
   "id": "d09a17d7-631d-4685-afa7-8a42b5a3086f",
   "metadata": {},
   "source": [
    "## Combining AND/OR conditions\n",
    "> Let's play around a bit with finding data w/ conditions\n",
    "> I've already done this since it's not very difficult but still"
   ]
  },
  {
   "cell_type": "code",
   "execution_count": 78,
   "id": "d09b51ab-50fd-42a5-813f-be4bb74d0217",
   "metadata": {},
   "outputs": [
    {
     "name": "stdout",
     "output_type": "stream",
     "text": [
      "All Barnes family members: \n",
      "\n",
      "('Samantha', 'Barnes', 25)\n",
      "('Joe', 'Barnes', 35)\n",
      "('Sarah', 'Barnes', 25)\n",
      "\n",
      " Let's aggregate data by finding the average family member's age \n",
      "\n",
      "COUNT, SUM, AVG, MIN, and MAX are some basic aggregation commands available in SQL\n",
      "\n",
      "The average age is 28.333333333333332\n",
      "\n",
      "Let's use this data to find the older and younger siblings\n",
      "\n",
      "Older sibling: \n",
      "Joe age 35\n",
      "\n",
      "Younger siblings: \n",
      "Samantha age 25\n",
      "Sarah age 25\n"
     ]
    }
   ],
   "source": [
    "# Print all data first to look at\n",
    "import sqlite3 \n",
    "conn = sqlite3.connect('test.db')\n",
    "with conn: \n",
    "    cursor = conn.cursor()\n",
    "    response = cursor.execute('SELECT * FROM people WHERE last_name =\"Barnes\" ').fetchall()\n",
    "    print(\"All Barnes family members: \\n\")\n",
    "    for person in response:\n",
    "        print(person)\n",
    "    print(\"\"\"\\n Let's aggregate data by finding the average family member's age \\n\"\"\")\n",
    "\n",
    "    print(\"COUNT, SUM, AVG, MIN, and MAX are some basic aggregation commands available in SQL\\n\")\n",
    "\n",
    "    avg_age_result= cursor.execute('SELECT AVG(age) FROM people WHERE last_name=\"Barnes\"').fetchone()\n",
    "    avg_age = avg_age_result[0]\n",
    "    print('The average age is {avg_age}\\n'.format(avg_age=avg_age))\n",
    "    print(\"Let's use this data to find the older and younger siblings\\n\")\n",
    "    \n",
    "    older_siblings = cursor.execute(f'SELECT first_name,age FROM people WHERE age>{avg_age} AND last_name=\"Barnes\"').fetchall()\n",
    "    younger_siblings = cursor.execute(f'SELECT first_name,age FROM people WHERE age<{avg_age} AND last_name=\"Barnes\"').fetchall()\n",
    "    if len(older_siblings)> 1:\n",
    "        print(\"Older siblings: \")\n",
    "    else:\n",
    "        print(\"Older sibling: \")\n",
    "    for sibling in older_siblings:\n",
    "        print(f\"{sibling[0]} age {sibling[1]}\\n\")\n",
    "    if len(younger_siblings)> 1:\n",
    "        print(\"Younger siblings: \")\n",
    "    else:\n",
    "        print(\"Younger sibling: \")\n",
    "    for sibling in younger_siblings:\n",
    "        print(f\"{sibling[0]} age {sibling[1]}\")"
   ]
  },
  {
   "cell_type": "markdown",
   "id": "4d547c1b-5cfe-4978-ab52-0daefb7f43d3",
   "metadata": {},
   "source": [
    "Noteworthy stuff:\n",
    "- `AVG` combined w/ a `WHERE last_name=\"Barnes\"` is used to specify the average of only the Barnes family"
   ]
  },
  {
   "cell_type": "markdown",
   "id": "2cb5c1c2-6903-4b65-9dfe-40d2fd15db66",
   "metadata": {},
   "source": [
    "### More aggregations\n",
    "> Let's do some quick stats"
   ]
  },
  {
   "cell_type": "code",
   "execution_count": 102,
   "id": "dcf4f447-5d49-4904-baad-053b93b68b9c",
   "metadata": {},
   "outputs": [
    {
     "name": "stdout",
     "output_type": "stream",
     "text": [
      "All people:\n",
      "('Selena', 'Thomas', 69)\n",
      "('Johnny', 'Karcol', 34)\n",
      "('Jeremy', 'Beremy', 40)\n",
      "('Dora', 'Explora', 22)\n",
      "('Cindy', 'Dio', 90)\n",
      "('Bob', 'Billy', 50)\n",
      "('Dora', 'Explora', 22)\n",
      "('Cindy', 'Dio', 90)\n",
      "('Bob', 'Billy', 50)\n",
      "('Bruce', 'Explora', 22)\n",
      "('Glorilla', 'Dio', 90)\n",
      "('Grimes', 'Billy', 50)\n",
      "('Samantha', 'Barnes', 25)\n",
      "('Joe', 'Barnes', 35)\n",
      "('Sarah', 'Barnes', 25)\n",
      "\n",
      "Amount of ppl 15\n",
      "\n",
      "Average age of people 47.6\n",
      "\n",
      "The yougnest peole are: \n",
      "('Dora', 'Explora', 22)\n",
      "('Dora', 'Explora', 22)\n",
      "('Bruce', 'Explora', 22)\n"
     ]
    }
   ],
   "source": [
    "import sqlite3 \n",
    "conn = sqlite3.connect('test.db')\n",
    "with conn: \n",
    "    cursor = conn.cursor()\n",
    "    all_people = cursor.execute('SELECT * FROM people').fetchall()\n",
    "    print('All people:')\n",
    "    for person in all_people:\n",
    "        print(person)\n",
    "\n",
    "    count = cursor.execute('SELECT COUNT(first_name) FROM people').fetchone()\n",
    "    print('\\nAmount of ppl {0}'.format(count[0]))\n",
    "    avg_age = cursor.execute('SELECT AVG(age) FROM people').fetchone()\n",
    "    print('\\nAverage age of people {}'.format(avg_age[0]))\n",
    "\n",
    "    youngest = cursor.execute('SELECT * FROM people WHERE age = (SELECT MIN(age) FROM people)').fetchall()\n",
    "    if len(youngest) < 1:\n",
    "        print('\\nThe youngest person is:')\n",
    "    else: \n",
    "        print('\\nThe yougnest peole are: ')\n",
    "    for youngin in youngest:\n",
    "        print(youngin)"
   ]
  },
  {
   "cell_type": "code",
   "execution_count": null,
   "id": "7bbdc55a-977a-4609-b112-977554921081",
   "metadata": {},
   "outputs": [],
   "source": []
  }
 ],
 "metadata": {
  "kernelspec": {
   "display_name": "Python 3 (ipykernel)",
   "language": "python",
   "name": "python3"
  },
  "language_info": {
   "codemirror_mode": {
    "name": "ipython",
    "version": 3
   },
   "file_extension": ".py",
   "mimetype": "text/x-python",
   "name": "python",
   "nbconvert_exporter": "python",
   "pygments_lexer": "ipython3",
   "version": "3.12.6"
  }
 },
 "nbformat": 4,
 "nbformat_minor": 5
}
