{
 "cells": [
  {
   "cell_type": "markdown",
   "id": "26641c38-db53-4712-86bb-9d08f10a0508",
   "metadata": {},
   "source": [
    "# SQLite w/ python"
   ]
  },
  {
   "cell_type": "markdown",
   "id": "02895732-ea0c-410e-96f1-f780c2c6e324",
   "metadata": {},
   "source": [
    "As title, in this I'll go over what I'm learning w/ SQL. It's best to do some notetaking here "
   ]
  },
  {
   "cell_type": "markdown",
   "id": "bc92e1dc-80b9-4234-8e44-2422d23c2387",
   "metadata": {},
   "source": [
    "To do list:  \n",
    "[x]SELECT \\\n",
    "[x]SELECT DISTINCT\\\n",
    "[x]INSERT INTO table\\\n",
    "[x]INSERT INTO table using qmarks\\\n",
    "[x]INSERT INTO table using names \\\n",
    "[]UPDATING table\\\n",
    "[]DELETING from table\\\n",
    "[]EXECUTE many commands in one go \\\n",
    "[]USING WHERE TO SPECIFY CONDITIONS \\\n",
    "[]AGGREGATE data\\\n",
    "[]combine WHERE & AGGREGATION"
   ]
  },
  {
   "cell_type": "markdown",
   "id": "86009fd0-36d5-4884-9771-f154e75b3cb8",
   "metadata": {},
   "source": [
    "## Importing sqlite"
   ]
  },
  {
   "cell_type": "markdown",
   "id": "596ad5e2-46f5-4c3e-846e-1e4211c9737b",
   "metadata": {},
   "source": [
    "As a really light and performant application, sqlite is easily added to many things and as a battery included language, python is reliable in that it has sqlite built in. It just needs to be imported"
   ]
  },
  {
   "cell_type": "code",
   "execution_count": 2,
   "id": "02cd1af0-4f1f-487e-ba7d-f02483aa7e2c",
   "metadata": {},
   "outputs": [],
   "source": [
    "import sqlite3"
   ]
  },
  {
   "cell_type": "markdown",
   "id": "7a6f528f-c1e1-479f-bb38-c901d677a388",
   "metadata": {},
   "source": [
    "### Creating a db"
   ]
  },
  {
   "cell_type": "markdown",
   "id": "1fbb8da3-7ec2-4389-81b5-c6e90d345203",
   "metadata": {},
   "source": [
    "All sqlite dbs are files. To create one the syntax is:"
   ]
  },
  {
   "cell_type": "code",
   "execution_count": 7,
   "id": "5ed2d39f-3529-49a9-9d6d-44b1b7bd8571",
   "metadata": {},
   "outputs": [],
   "source": [
    "import sqlite3\n",
    "\n",
    "conn = sqlite3.connect('test.db')\n",
    "cursor = conn.cursor()\n",
    "\n",
    "cursor.execute(\"\"\"CREATE TABLE IF NOT EXISTS people(\n",
    "  first_name TEXT,\n",
    "  last_name TEXT,\n",
    "  age INTEGER\n",
    ");\n",
    "\"\"\")\n",
    "conn.commit()\n",
    "conn.close()"
   ]
  },
  {
   "cell_type": "markdown",
   "id": "2b037c88-7148-4c5e-ad5c-8753f03fb0c7",
   "metadata": {},
   "source": [
    "The above statement does multiple things\n",
    "- creates a connection to the named db `test.db`\n",
    "- creates a cursor to navigate and control db `cursor = conn.cursor()`\n",
    "- executes a create table command `cursor.execute(\"CREATE TABLE IF NOT EXISTS...)\n",
    "  - IF NOT EXISTS so duplicate tables aren't created\n",
    "  - columns are named\n",
    "    - first_name, last_name, age\n",
    "  - columns are typed\n",
    "    - TEXT & INTEGER\n",
    "  - command is ended `;`\n",
    "- connection is commited to memory `conn.commit()`\n",
    "- connection is closed `conn.close`"
   ]
  },
  {
   "cell_type": "markdown",
   "id": "947923f6-37cc-4628-b4a9-7e4acd31a7ee",
   "metadata": {},
   "source": [
    "# Accessing table data"
   ]
  },
  {
   "cell_type": "markdown",
   "id": "161bbecb-e85a-48e8-9a3a-bc38fa19c8d8",
   "metadata": {},
   "source": [
    "The data in tables are accessed with the select command"
   ]
  },
  {
   "cell_type": "code",
   "execution_count": 20,
   "id": "9fc66214-ba29-4276-b166-9b6a489b4b33",
   "metadata": {},
   "outputs": [
    {
     "name": "stdout",
     "output_type": "stream",
     "text": [
      "('Selena', 'Thomas', 25)\n",
      "('Johnny', 'Karcol', 34)\n",
      "('Samantha', 'Grey', 21)\n"
     ]
    }
   ],
   "source": [
    "import sqlite3 \n",
    "conn =  sqlite3.connect('test.db')\n",
    "cursor = conn.cursor()\n",
    "resp = cursor.execute(\"SELECT * FROM people\").fetchall()\n",
    "conn.commit()\n",
    "conn.close()\n",
    "\n",
    "for person in resp: \n",
    "    print(person)"
   ]
  },
  {
   "cell_type": "markdown",
   "id": "13026c5d-f51d-4a8f-832f-f6f54b815fd2",
   "metadata": {},
   "source": [
    "#### Noteworthy things:\n",
    "- The `execute` command is used to execute sql commands\n",
    "- `fetchall` is used to tell python to fetch all that matches given conditions\n",
    "    - otherwise the response will be nothing\n",
    "    - `fetchone` is an alternative to `fetchall` that fetches the first matching response\n",
    "    - `fetchall` puts the results in an array\n",
    "- Data is printed in loop (not very important)\n",
    "- The connection is **commited** and **closed**"
   ]
  },
  {
   "cell_type": "markdown",
   "id": "0aac1432-199d-40b6-a309-2790a23c7bef",
   "metadata": {},
   "source": [
    "Example of not using fetchall: "
   ]
  },
  {
   "cell_type": "code",
   "execution_count": 23,
   "id": "7f9a0f68-5569-47fb-ad1f-9d225d0c04b0",
   "metadata": {},
   "outputs": [
    {
     "name": "stdout",
     "output_type": "stream",
     "text": [
      "<sqlite3.Cursor object at 0x73e25c5bd6c0>\n"
     ]
    }
   ],
   "source": [
    "import sqlite3 \n",
    "conn =  sqlite3.connect('test.db')\n",
    "cursor = conn.cursor()\n",
    "resp = cursor.execute(\"SELECT * FROM people\")\n",
    "conn.commit()\n",
    "conn.close()\n",
    "print(resp)"
   ]
  },
  {
   "cell_type": "markdown",
   "id": "96bbcfff-2002-48ef-8077-99a3eb7c437c",
   "metadata": {},
   "source": [
    "Example of using `fetchone` instead of `fetchall`"
   ]
  },
  {
   "cell_type": "code",
   "execution_count": 24,
   "id": "81ff5f94-885d-4091-b475-d306b346eb74",
   "metadata": {},
   "outputs": [
    {
     "name": "stdout",
     "output_type": "stream",
     "text": [
      "('Selena', 'Thomas', 25)\n"
     ]
    }
   ],
   "source": [
    "import sqlite3 \n",
    "conn =  sqlite3.connect('test.db')\n",
    "cursor = conn.cursor()\n",
    "resp = cursor.execute(\"SELECT * FROM people\").fetchone()\n",
    "conn.commit()\n",
    "conn.close()\n",
    "print(resp)"
   ]
  },
  {
   "cell_type": "markdown",
   "id": "9550444d-a99f-4fb4-b885-3ab2d407bebc",
   "metadata": {},
   "source": [
    "- first matching response is printed"
   ]
  },
  {
   "cell_type": "markdown",
   "id": "6e86a73b-96ea-4a81-adea-72449da900a7",
   "metadata": {},
   "source": [
    "## Inserting data into sqlite w/ python"
   ]
  },
  {
   "cell_type": "code",
   "execution_count": 28,
   "id": "531bc632-00d6-4907-80e5-ceb7a73edcce",
   "metadata": {},
   "outputs": [
    {
     "name": "stdout",
     "output_type": "stream",
     "text": [
      "[('Selena', 'Thomas', 25), ('Johnny', 'Karcol', 34), ('Samantha', 'Grey', 21), ('Jeremy', 'Beremy', 40)]\n"
     ]
    }
   ],
   "source": [
    "import sqlite3 \n",
    "conn =  sqlite3.connect('test.db')\n",
    "cursor = conn.cursor()\n",
    "\n",
    "cursor.execute(\"\"\"INSERT INTO people(first_name,last_name,age) --gives structure to insert(optional)\n",
    "VALUES('Jeremy','Beremy',40)\n",
    "\"\"\") \n",
    "response = cursor.execute(\"SELECT first_name,last_name,age FROM people\").fetchall()\n",
    "print(response)\n",
    "conn.commit()\n",
    "conn.close()"
   ]
  },
  {
   "cell_type": "markdown",
   "id": "db1a3c40-94d5-4d30-89e4-b974fecfe077",
   "metadata": {},
   "source": [
    "#### Noteworthy things: \n",
    "- `INSERT INTO` the keyword for inserts\n",
    "- `people` name of table to insert into\n",
    "- `people(first_name,last_name,age)` lists the columns to retrieve\n",
    "    - it's not necessary to list columns\n",
    "        - instead `INSERT INTO PEOPLE VALUES('Jeremy', 'Beremy',40)` would've been valid\n",
    "        - Not listing columns runs the risk of having errors\n",
    "            - the data is given no clear structure so given data in the wrong order could throw an error\n",
    "            - having the structure makes it so as long as your data follows the given structure, the order isn't restricted\n",
    "- `fetchall` is used to return an array of matching rows\n",
    "- connection is commited\n",
    "- connection is closed"
   ]
  },
  {
   "cell_type": "markdown",
   "id": "ca87d83f-dcfc-47c3-ae30-4049c935c99c",
   "metadata": {},
   "source": [
    "## Alt way of writing connection executions to autoclose connection"
   ]
  },
  {
   "cell_type": "code",
   "execution_count": 2,
   "id": "c04b985b-c222-4c54-b91d-0d99d0ab710c",
   "metadata": {},
   "outputs": [
    {
     "name": "stdout",
     "output_type": "stream",
     "text": [
      "[('Selena', 'Thomas', 25), ('Johnny', 'Karcol', 34), ('Samantha', 'Grey', 21), ('Jeremy', 'Beremy', 40)]\n"
     ]
    }
   ],
   "source": [
    "import sqlite3 \n",
    "conn =  sqlite3.connect('test.db')\n",
    "\n",
    "with conn:\n",
    "    cursor = conn.cursor()\n",
    "    print(cursor.execute(\"SELECT * FROM people\").fetchall())\n",
    "    conn.commit()"
   ]
  },
  {
   "cell_type": "markdown",
   "id": "653a1dfb-ac9b-4620-b646-8a499a345cd5",
   "metadata": {},
   "source": [
    "## Inserting alts\n",
    "> This will cover using executemany & an array of values to insert rows\n",
    "> executemany can prepare and insert multiple values with a given sequence of data"
   ]
  },
  {
   "cell_type": "code",
   "execution_count": 8,
   "id": "de598df4-5e67-43d2-8705-91ceb16029a6",
   "metadata": {},
   "outputs": [
    {
     "name": "stdout",
     "output_type": "stream",
     "text": [
      "('Selena', 'Thomas', 25)\n",
      "('Johnny', 'Karcol', 34)\n",
      "('Samantha', 'Grey', 21)\n",
      "('Jeremy', 'Beremy', 40)\n",
      "('Dora', 'Explora', 22)\n",
      "('Cindy', 'Dio', 90)\n",
      "('Bob', 'Billy', 50)\n",
      "('Dora', 'Explora', 22)\n",
      "('Cindy', 'Dio', 90)\n",
      "('Bob', 'Billy', 50)\n"
     ]
    }
   ],
   "source": [
    "import sqlite3 \n",
    "conn =  sqlite3.connect('test.db')\n",
    "\n",
    "with conn: \n",
    "    cursor = conn.cursor()\n",
    "    conn.commit()\n",
    "     many_inserts = [\n",
    "        (\"Dora\", \"Explora\", 22), \n",
    "        (\"Cindy\", \"Dio\", 90),\n",
    "        (\"Bob\", \"Billy\", 50)\n",
    "    ]\n",
    "    cursor.executemany(\"\"\"\n",
    "    INSERT INTO people (first_name,last_name,age)\n",
    "    VALUES(? ,? ,? )\n",
    "    \"\"\", many_inserts)\n",
    "    response = cursor.execute(\"SELECT first_name,last_name,age FROM people\").fetchall()\n",
    "    for person in response:\n",
    "        print(person)"
   ]
  },
  {
   "cell_type": "markdown",
   "id": "bbd9e56d-172e-4548-88d6-9807aa4b2b4f",
   "metadata": {},
   "source": [
    "#### Noteworth things here:\n",
    "- Inserting many rows at once can be done in python can be done by using the executemany\n",
    "    - syntax:\n",
    "     `cursor.executemany(\"\"\" INSERT INTO table_name (column1,column2,column3) VALUES(? ,? ,? )\"\"\", sequence)`\n",
    "        - the sequence can be for ex a list of tuples\n",
    "- `with conn:` is used to open and close the connection\n",
    "- `executemany` is used to loop through the list to insert all values at once"
   ]
  },
  {
   "cell_type": "markdown",
   "id": "cefd4423-205c-4bb9-bfd4-4f776808272b",
   "metadata": {},
   "source": [
    "## Named vs ? \n",
    "> The above example used ?s to insert values left to right\n",
    "> The ex below uses named values instead so the order matters less and the values are pulled from objects rather a tuple or list of data"
   ]
  },
  {
   "cell_type": "code",
   "execution_count": 16,
   "id": "2a775258-24b9-449c-b3f2-72997662331e",
   "metadata": {},
   "outputs": [
    {
     "name": "stdout",
     "output_type": "stream",
     "text": [
      "('Selena', 'Thomas', 25)\n",
      "('Johnny', 'Karcol', 34)\n",
      "('Samantha', 'Grey', 21)\n",
      "('Jeremy', 'Beremy', 40)\n",
      "('Dora', 'Explora', 22)\n",
      "('Cindy', 'Dio', 90)\n",
      "('Bob', 'Billy', 50)\n",
      "('Dora', 'Explora', 22)\n",
      "('Cindy', 'Dio', 90)\n",
      "('Bob', 'Billy', 50)\n",
      "('Bruce', 'Explora', 22)\n",
      "('Glorilla', 'Dio', 90)\n",
      "('Grimes', 'Billy', 50)\n"
     ]
    }
   ],
   "source": [
    "import sqlite3\n",
    "conn = sqlite3.connect('test.db')\n",
    "with conn:\n",
    "    cursor = conn.cursor()\n",
    "    many_inserts = [\n",
    "        {\"first_name\": \"Bruce\", \"last_name\": \"Explora\",\"age\": 22}, \n",
    "        {\"first_name\": \"Glorilla\", \"last_name\": \"Dio\", \"age\": 90},\n",
    "        {\"first_name\": \"Grimes\", \"last_name\": \"Billy\", \"age\": 50}\n",
    "    ]\n",
    "    cursor.executemany(\"\"\"INSERT INTO people(first_name,last_name,age) \n",
    "        VALUES(:first_name, :last_name, :age) \"\"\",many_inserts)\n",
    "    response = cursor.execute(\"SELECT first_name, last_name, age FROM people\").fetchall()\n",
    "    for person in response:\n",
    "        print(person)"
   ]
  },
  {
   "cell_type": "code",
   "execution_count": 17,
   "id": "37dfd158-ac1e-4a77-9c93-b7be55bdcaf0",
   "metadata": {},
   "outputs": [
    {
     "name": "stdout",
     "output_type": "stream",
     "text": [
      "('Selena', 'Thomas', 25)\n",
      "('Johnny', 'Karcol', 34)\n",
      "('Samantha', 'Grey', 21)\n",
      "('Jeremy', 'Beremy', 40)\n",
      "('Dora', 'Explora', 22)\n",
      "('Cindy', 'Dio', 90)\n",
      "('Bob', 'Billy', 50)\n",
      "('Dora', 'Explora', 22)\n",
      "('Cindy', 'Dio', 90)\n",
      "('Bob', 'Billy', 50)\n",
      "('Bruce', 'Explora', 22)\n",
      "('Glorilla', 'Dio', 90)\n",
      "('Grimes', 'Billy', 50)\n"
     ]
    }
   ],
   "source": [
    "import sqlite3\n",
    "conn = sqlite3.connect('test.db')\n",
    "with conn: \n",
    "    cursor = conn.cursor()\n",
    "    response = cursor.execute(\"SELECT * FROM people\").fetchall()\n",
    "    for person in response: \n",
    "        print(person)"
   ]
  },
  {
   "cell_type": "markdown",
   "id": "57f6e3a8-3d45-48e6-b5d4-f65a9d8d751d",
   "metadata": {},
   "source": [
    "## SELECT DISTINCT(Different) data\n",
    "> Select distinct is use to only select data that is different from each other"
   ]
  },
  {
   "cell_type": "markdown",
   "id": "05a556d3-40e6-4ee9-95ef-0d61ed7f4166",
   "metadata": {},
   "source": [
    "In the ex above, there are dupicates of Dora,Cindy and Bob. Let's try to only print the unique names"
   ]
  },
  {
   "cell_type": "code",
   "execution_count": 8,
   "id": "ec7abdf0-3155-4dd3-b832-27a1df941f43",
   "metadata": {},
   "outputs": [
    {
     "name": "stdout",
     "output_type": "stream",
     "text": [
      "All people:\n",
      "('Selena', 'Thomas', 25)\n",
      "('Johnny', 'Karcol', 34)\n",
      "('Samantha', 'Grey', 21)\n",
      "('Jeremy', 'Beremy', 40)\n",
      "('Dora', 'Explora', 22)\n",
      "('Cindy', 'Dio', 90)\n",
      "('Bob', 'Billy', 50)\n",
      "('Dora', 'Explora', 22)\n",
      "('Cindy', 'Dio', 90)\n",
      "('Bob', 'Billy', 50)\n",
      "('Bruce', 'Explora', 22)\n",
      "('Glorilla', 'Dio', 90)\n",
      "('Grimes', 'Billy', 50)\n",
      "('Samantha', 'Grey', 21)\n",
      "('Samantha', 'Grey', 21)\n",
      "('Samantha', 'Grey', 21)\n",
      "('Samantha', 'Grey', 21)\n",
      "('Samantha', 'Grey', 21)\n",
      "('Samantha', 'Grey', 21)\n",
      "('Samantha', 'Barnes', 25)\n",
      "('Joe', 'Barnes', 35)\n",
      "('Sarah', 'Barnes', 25)\n",
      "Distinct people\n",
      "('Selena', 'Thomas', 25)\n",
      "('Johnny', 'Karcol', 34)\n",
      "('Samantha', 'Grey', 21)\n",
      "('Jeremy', 'Beremy', 40)\n",
      "('Dora', 'Explora', 22)\n",
      "('Cindy', 'Dio', 90)\n",
      "('Bob', 'Billy', 50)\n",
      "('Bruce', 'Explora', 22)\n",
      "('Glorilla', 'Dio', 90)\n",
      "('Grimes', 'Billy', 50)\n",
      "('Samantha', 'Barnes', 25)\n",
      "('Joe', 'Barnes', 35)\n",
      "('Sarah', 'Barnes', 25)\n"
     ]
    }
   ],
   "source": [
    "import sqlite3 \n",
    "conn = sqlite3.connect('test.db')\n",
    "with conn:\n",
    "    cursor = conn.cursor()\n",
    "    sel_all = cursor.execute('SELECT first_name,last_name,age FROM people').fetchall()\n",
    "    sel_dist = cursor.execute('SELECT DISTINCT first_name,last_name,age FROM people').fetchall()\n",
    "    print(\"All people:\")\n",
    "    for person in sel_all:\n",
    "        print(person)\n",
    "    print(\"Distinct people\")\n",
    "    for person in sel_dist: \n",
    "        print(person)"
   ]
  },
  {
   "cell_type": "markdown",
   "id": "ee3b53d7-1f75-4bc3-9643-d127adc4e080",
   "metadata": {},
   "source": [
    "### Notes\n",
    "- Notice how the returned lists are all unique names"
   ]
  },
  {
   "cell_type": "code",
   "execution_count": 14,
   "id": "f64372fb-3de1-4953-bdf3-df7f3f6f742b",
   "metadata": {},
   "outputs": [
    {
     "name": "stdout",
     "output_type": "stream",
     "text": [
      "Unique last names:\n",
      "Thomas\n",
      "Karcol\n",
      "Grey\n",
      "Beremy\n",
      "Explora\n",
      "Dio\n",
      "Billy\n",
      "Barnes\n",
      "\n",
      "Unique first names:\n",
      "Selena\n",
      "Johnny\n",
      "Samantha\n",
      "Jeremy\n",
      "Dora\n",
      "Cindy\n",
      "Bob\n",
      "Bruce\n",
      "Glorilla\n",
      "Grimes\n",
      "Joe\n",
      "Sarah\n"
     ]
    }
   ],
   "source": [
    "import sqlite3 \n",
    "conn = sqlite3.connect('test.db')\n",
    "with conn: \n",
    "    cursor = conn.cursor()\n",
    "    last_names = cursor.execute('SELECT DISTINCT last_name FROM people').fetchall()\n",
    "    first_names = cursor.execute('SELECT DISTINCT first_name FROM people').fetchall()\n",
    "    ages = cursor.execute('SELECT DISTINCT age FROM people').fetchall()\n",
    "    print('Unique last names:')\n",
    "    for person in last_names:\n",
    "        print(person[0])\n",
    "    print('\\nUnique first names:')\n",
    "    for person in first_names: \n",
    "        print(person[0])"
   ]
  },
  {
   "cell_type": "markdown",
   "id": "1930781f-c080-4047-a08d-d521c0e7a7a2",
   "metadata": {},
   "source": [
    "## Updating a table \n",
    "> Let's try inserting someone then updating them "
   ]
  },
  {
   "cell_type": "code",
   "execution_count": null,
   "id": "8084dd4a-cef9-4aae-a72c-e794764ce1be",
   "metadata": {},
   "outputs": [],
   "source": [
    "import sqlite3\n",
    "conn = sqlite3.connect('test.db') \n",
    "cursor = conn.cursor()\n",
    "selena_before = cursor.execute('SELECT * FROM people WHERE first_name=\"Selena\" AND last_name=\"Thomas\"').fetchone()\n",
    "print(f'{selena_before[0]} {selena_before[1]} is {selena_before[2]} years old')\n",
    "cursor.execute(\"\"\"\n",
    "UPDATE people SET age=40 WHERE first_name=\"Selena\" AND last_name=\"Thomas\";\n",
    "\"\"\")\n",
    "selena_after = cursor.execute(\"\"\"\n",
    "SELECT first_name,last_name,age FROM people WHERE first_name=\"Selena\" AND last_name=\"Thomas\"\n",
    "\"\"\").fetchone()\n",
    "print(f'{selena_after[0]} {selena_after[1]} is {selena_after[2]} years old')\n",
    "conn.commit()\n",
    "conn.close()"
   ]
  },
  {
   "cell_type": "code",
   "execution_count": null,
   "id": "a0f73d0e-c632-488a-9c3b-463f8bfcbd56",
   "metadata": {},
   "outputs": [],
   "source": []
  }
 ],
 "metadata": {
  "kernelspec": {
   "display_name": "Python 3 (ipykernel)",
   "language": "python",
   "name": "python3"
  },
  "language_info": {
   "codemirror_mode": {
    "name": "ipython",
    "version": 3
   },
   "file_extension": ".py",
   "mimetype": "text/x-python",
   "name": "python",
   "nbconvert_exporter": "python",
   "pygments_lexer": "ipython3",
   "version": "3.12.6"
  }
 },
 "nbformat": 4,
 "nbformat_minor": 5
}
