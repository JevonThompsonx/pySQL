{
 "cells": [
  {
   "cell_type": "markdown",
   "id": "26641c38-db53-4712-86bb-9d08f10a0508",
   "metadata": {},
   "source": [
    "# SQLite w/ python"
   ]
  },
  {
   "cell_type": "markdown",
   "id": "02895732-ea0c-410e-96f1-f780c2c6e324",
   "metadata": {},
   "source": [
    "As title, in this I'll go over what I'm learning w/ SQL. It's best to do some notetaking here "
   ]
  },
  {
   "cell_type": "markdown",
   "id": "822e5c2e-e988-4b29-9905-79565552f6b9",
   "metadata": {},
   "source": [
    "# SQLite"
   ]
  },
  {
   "cell_type": "markdown",
   "id": "596ad5e2-46f5-4c3e-846e-1e4211c9737b",
   "metadata": {},
   "source": [
    "As a really light and performant application, sqlite is easily added to many things and as a battery included language, python is reliable in that it has sqlite built in. It just needs to be imported"
   ]
  },
  {
   "cell_type": "code",
   "execution_count": 2,
   "id": "02cd1af0-4f1f-487e-ba7d-f02483aa7e2c",
   "metadata": {},
   "outputs": [],
   "source": [
    "import sqlite3"
   ]
  },
  {
   "cell_type": "markdown",
   "id": "7a6f528f-c1e1-479f-bb38-c901d677a388",
   "metadata": {},
   "source": [
    "### Creating a db"
   ]
  },
  {
   "cell_type": "markdown",
   "id": "1fbb8da3-7ec2-4389-81b5-c6e90d345203",
   "metadata": {},
   "source": [
    "All sqlite dbs are files. To create one the syntax is:"
   ]
  },
  {
   "cell_type": "code",
   "execution_count": 7,
   "id": "5ed2d39f-3529-49a9-9d6d-44b1b7bd8571",
   "metadata": {},
   "outputs": [],
   "source": [
    "import sqlite3\n",
    "\n",
    "conn = sqlite3.connect('test.db')\n",
    "cursor = conn.cursor()\n",
    "\n",
    "cursor.execute(\"\"\"CREATE TABLE IF NOT EXISTS people(\n",
    "  first_name TEXT,\n",
    "  last_name TEXT,\n",
    "  age INTEGER\n",
    ");\n",
    "\"\"\")\n",
    "conn.commit()\n",
    "conn.close()"
   ]
  },
  {
   "cell_type": "markdown",
   "id": "2b037c88-7148-4c5e-ad5c-8753f03fb0c7",
   "metadata": {},
   "source": [
    "The above statement does multiple things\n",
    "- creates a connection to the named db `test.db`\n",
    "- creates a cursor to navigate and control db `cursor = conn.cursor()`\n",
    "- executes a create table command `cursor.execute(\"CREATE TABLE IF NOT EXISTS...)\n",
    "  - IF NOT EXISTS so duplicate tables aren't created\n",
    "  - columns are named\n",
    "    - first_name, last_name, age\n",
    "  - columns are typed\n",
    "    - TEXT & INTEGER\n",
    "  - command is ended `;`\n",
    "- connection is commited to memory `conn.commit()`\n",
    "- connection is closed `conn.close`"
   ]
  },
  {
   "cell_type": "markdown",
   "id": "947923f6-37cc-4628-b4a9-7e4acd31a7ee",
   "metadata": {},
   "source": [
    "# Accessing table data"
   ]
  },
  {
   "cell_type": "markdown",
   "id": "161bbecb-e85a-48e8-9a3a-bc38fa19c8d8",
   "metadata": {},
   "source": [
    "The data in tables are accessed with the select command"
   ]
  },
  {
   "cell_type": "code",
   "execution_count": 20,
   "id": "9fc66214-ba29-4276-b166-9b6a489b4b33",
   "metadata": {},
   "outputs": [
    {
     "name": "stdout",
     "output_type": "stream",
     "text": [
      "('Selena', 'Thomas', 25)\n",
      "('Johnny', 'Karcol', 34)\n",
      "('Samantha', 'Grey', 21)\n"
     ]
    }
   ],
   "source": [
    "import sqlite3 \n",
    "conn =  sqlite3.connect('test.db')\n",
    "cursor = conn.cursor()\n",
    "resp = cursor.execute(\"SELECT * FROM people\").fetchall()\n",
    "conn.commit()\n",
    "conn.close()\n",
    "\n",
    "for person in resp: \n",
    "    print(person)"
   ]
  },
  {
   "cell_type": "markdown",
   "id": "13026c5d-f51d-4a8f-832f-f6f54b815fd2",
   "metadata": {},
   "source": [
    "#### Noteworthy things:\n",
    "- The `execute` command is used to execute sql commands\n",
    "- `fetchall` is used to tell python to fetch all that matches given conditions\n",
    "    - otherwise the response will be nothing\n",
    "    - `fetchone` is an alternative to `fetchall` that fetches the first matching response\n",
    "    - `fetchall` puts the results in an array\n",
    "- Data is printed in loop (not very important)\n",
    "- The connection is **commited** and **closed**"
   ]
  },
  {
   "cell_type": "markdown",
   "id": "0aac1432-199d-40b6-a309-2790a23c7bef",
   "metadata": {},
   "source": [
    "Example of not using fetchall: "
   ]
  },
  {
   "cell_type": "code",
   "execution_count": 23,
   "id": "7f9a0f68-5569-47fb-ad1f-9d225d0c04b0",
   "metadata": {},
   "outputs": [
    {
     "name": "stdout",
     "output_type": "stream",
     "text": [
      "<sqlite3.Cursor object at 0x73e25c5bd6c0>\n"
     ]
    }
   ],
   "source": [
    "import sqlite3 \n",
    "conn =  sqlite3.connect('test.db')\n",
    "cursor = conn.cursor()\n",
    "resp = cursor.execute(\"SELECT * FROM people\")\n",
    "conn.commit()\n",
    "conn.close()\n",
    "print(resp)"
   ]
  },
  {
   "cell_type": "markdown",
   "id": "96bbcfff-2002-48ef-8077-99a3eb7c437c",
   "metadata": {},
   "source": [
    "Example of using `fetchone` instead of `fetchall`"
   ]
  },
  {
   "cell_type": "code",
   "execution_count": 24,
   "id": "81ff5f94-885d-4091-b475-d306b346eb74",
   "metadata": {},
   "outputs": [
    {
     "name": "stdout",
     "output_type": "stream",
     "text": [
      "('Selena', 'Thomas', 25)\n"
     ]
    }
   ],
   "source": [
    "import sqlite3 \n",
    "conn =  sqlite3.connect('test.db')\n",
    "cursor = conn.cursor()\n",
    "resp = cursor.execute(\"SELECT * FROM people\").fetchone()\n",
    "conn.commit()\n",
    "conn.close()\n",
    "print(resp)"
   ]
  },
  {
   "cell_type": "markdown",
   "id": "9550444d-a99f-4fb4-b885-3ab2d407bebc",
   "metadata": {},
   "source": [
    "- first matching response is printed"
   ]
  },
  {
   "cell_type": "markdown",
   "id": "6e86a73b-96ea-4a81-adea-72449da900a7",
   "metadata": {},
   "source": [
    "## Inserting data into sqlite w/ python"
   ]
  },
  {
   "cell_type": "code",
   "execution_count": 28,
   "id": "531bc632-00d6-4907-80e5-ceb7a73edcce",
   "metadata": {},
   "outputs": [
    {
     "name": "stdout",
     "output_type": "stream",
     "text": [
      "[('Selena', 'Thomas', 25), ('Johnny', 'Karcol', 34), ('Samantha', 'Grey', 21), ('Jeremy', 'Beremy', 40)]\n"
     ]
    }
   ],
   "source": [
    "import sqlite3 \n",
    "conn =  sqlite3.connect('test.db')\n",
    "cursor = conn.cursor()\n",
    "\n",
    "cursor.execute(\"\"\"INSERT INTO people(first_name,last_name,age) --gives structure to insert(optional)\n",
    "VALUES('Jeremy','Beremy',40)\n",
    "\"\"\") \n",
    "response = cursor.execute(\"SELECT first_name,last_name,age FROM people\").fetchall()\n",
    "print(response)\n",
    "conn.commit()\n",
    "conn.close()"
   ]
  },
  {
   "cell_type": "markdown",
   "id": "db1a3c40-94d5-4d30-89e4-b974fecfe077",
   "metadata": {},
   "source": [
    "#### Noteworthy things: \n",
    "- `INSERT INTO` the keyword for inserts\n",
    "- `people` name of table to insert into\n",
    "- `people(first_name,last_name,age)` lists the columns to retrieve\n",
    "    - it's not necessary to list columns\n",
    "        - instead `INSERT INTO PEOPLE VALUES('Jeremy', 'Beremy',40)` would've been valid\n",
    "        - Not listing columns runs the risk of having errors\n",
    "            - the data is given no clear structure so given data in the wrong order could throw an error\n",
    "            - having the structure makes it so as long as your data follows the given structure, the order isn't restricted\n",
    "- `fetchall` is used to return an array of matching rows\n",
    "- connection is commited\n",
    "- connection is closed"
   ]
  },
  {
   "cell_type": "markdown",
   "id": "ca87d83f-dcfc-47c3-ae30-4049c935c99c",
   "metadata": {},
   "source": [
    "## Alt way of writing connection executions to autoclose connection"
   ]
  },
  {
   "cell_type": "code",
   "execution_count": 2,
   "id": "c04b985b-c222-4c54-b91d-0d99d0ab710c",
   "metadata": {},
   "outputs": [
    {
     "name": "stdout",
     "output_type": "stream",
     "text": [
      "[('Selena', 'Thomas', 25), ('Johnny', 'Karcol', 34), ('Samantha', 'Grey', 21), ('Jeremy', 'Beremy', 40)]\n"
     ]
    }
   ],
   "source": [
    "import sqlite3 \n",
    "conn =  sqlite3.connect('test.db')\n",
    "\n",
    "with conn:\n",
    "    cursor = conn.cursor()\n",
    "    print(cursor.execute(\"SELECT * FROM people\").fetchall())\n",
    "    conn.commit()"
   ]
  },
  {
   "cell_type": "markdown",
   "id": "653a1dfb-ac9b-4620-b646-8a499a345cd5",
   "metadata": {},
   "source": [
    "## Inserting alts\n",
    "> This will cover using executemany & an array of values to insert rows\n",
    "> executemany can prepare and insert multiple values with a given sequence of data"
   ]
  },
  {
   "cell_type": "code",
   "execution_count": 8,
   "id": "de598df4-5e67-43d2-8705-91ceb16029a6",
   "metadata": {},
   "outputs": [
    {
     "name": "stdout",
     "output_type": "stream",
     "text": [
      "('Selena', 'Thomas', 25)\n",
      "('Johnny', 'Karcol', 34)\n",
      "('Samantha', 'Grey', 21)\n",
      "('Jeremy', 'Beremy', 40)\n",
      "('Dora', 'Explora', 22)\n",
      "('Cindy', 'Dio', 90)\n",
      "('Bob', 'Billy', 50)\n",
      "('Dora', 'Explora', 22)\n",
      "('Cindy', 'Dio', 90)\n",
      "('Bob', 'Billy', 50)\n"
     ]
    }
   ],
   "source": [
    "import sqlite3 \n",
    "conn =  sqlite3.connect('test.db')\n",
    "\n",
    "with conn: \n",
    "    cursor = conn.cursor()\n",
    "    conn.commit()\n",
    "     many_inserts = [\n",
    "        (\"Dora\", \"Explora\", 22), \n",
    "        (\"Cindy\", \"Dio\", 90),\n",
    "        (\"Bob\", \"Billy\", 50)\n",
    "    ]\n",
    "    cursor.executemany(\"\"\"\n",
    "    INSERT INTO people (first_name,last_name,age)\n",
    "    VALUES(? ,? ,? )\n",
    "    \"\"\", many_inserts)\n",
    "    response = cursor.execute(\"SELECT first_name,last_name,age FROM people\").fetchall()\n",
    "    for person in response:\n",
    "        print(person)"
   ]
  },
  {
   "cell_type": "markdown",
   "id": "bbd9e56d-172e-4548-88d6-9807aa4b2b4f",
   "metadata": {},
   "source": [
    "#### Noteworth things here:\n",
    "- Inserting many rows at once can be done in python can be done by using the executemany\n",
    "    - syntax:\n",
    "     `cursor.executemany(\"\"\" INSERT INTO table_name (column1,column2,column3) VALUES(? ,? ,? )\"\"\", sequence)`\n",
    "        - the sequence can be for ex a list of tuples\n",
    "- `with conn:` is used to open and close the connection\n",
    "- `executemany` is used to loop through the list to insert all values at once"
   ]
  },
  {
   "cell_type": "markdown",
   "id": "cefd4423-205c-4bb9-bfd4-4f776808272b",
   "metadata": {},
   "source": [
    "## Named vs ? \n",
    "> The above example used ?s to insert values left to right\n",
    "> The ex below uses named values instead so the order matters less and the values are pulled from objects rather a tuple or list of data"
   ]
  },
  {
   "cell_type": "code",
   "execution_count": 16,
   "id": "2a775258-24b9-449c-b3f2-72997662331e",
   "metadata": {},
   "outputs": [
    {
     "name": "stdout",
     "output_type": "stream",
     "text": [
      "('Selena', 'Thomas', 25)\n",
      "('Johnny', 'Karcol', 34)\n",
      "('Samantha', 'Grey', 21)\n",
      "('Jeremy', 'Beremy', 40)\n",
      "('Dora', 'Explora', 22)\n",
      "('Cindy', 'Dio', 90)\n",
      "('Bob', 'Billy', 50)\n",
      "('Dora', 'Explora', 22)\n",
      "('Cindy', 'Dio', 90)\n",
      "('Bob', 'Billy', 50)\n",
      "('Bruce', 'Explora', 22)\n",
      "('Glorilla', 'Dio', 90)\n",
      "('Grimes', 'Billy', 50)\n"
     ]
    }
   ],
   "source": [
    "import sqlite3\n",
    "conn = sqlite3.connect('test.db')\n",
    "with conn:\n",
    "    cursor = conn.cursor()\n",
    "    many_inserts = [\n",
    "        {\"first_name\": \"Bruce\", \"last_name\": \"Explora\",\"age\": 22}, \n",
    "        {\"first_name\": \"Glorilla\", \"last_name\": \"Dio\", \"age\": 90},\n",
    "        {\"first_name\": \"Grimes\", \"last_name\": \"Billy\", \"age\": 50}\n",
    "    ]\n",
    "    cursor.executemany(\"\"\"INSERT INTO people(first_name,last_name,age) \n",
    "        VALUES(:first_name, :last_name, :age) \"\"\",many_inserts)\n",
    "    response = cursor.execute(\"SELECT first_name, last_name, age FROM people\").fetchall()\n",
    "    for person in response:\n",
    "        print(person)"
   ]
  },
  {
   "cell_type": "code",
   "execution_count": 17,
   "id": "37dfd158-ac1e-4a77-9c93-b7be55bdcaf0",
   "metadata": {},
   "outputs": [
    {
     "name": "stdout",
     "output_type": "stream",
     "text": [
      "('Selena', 'Thomas', 25)\n",
      "('Johnny', 'Karcol', 34)\n",
      "('Samantha', 'Grey', 21)\n",
      "('Jeremy', 'Beremy', 40)\n",
      "('Dora', 'Explora', 22)\n",
      "('Cindy', 'Dio', 90)\n",
      "('Bob', 'Billy', 50)\n",
      "('Dora', 'Explora', 22)\n",
      "('Cindy', 'Dio', 90)\n",
      "('Bob', 'Billy', 50)\n",
      "('Bruce', 'Explora', 22)\n",
      "('Glorilla', 'Dio', 90)\n",
      "('Grimes', 'Billy', 50)\n"
     ]
    }
   ],
   "source": [
    "import sqlite3\n",
    "conn = sqlite3.connect('test.db')\n",
    "with conn: \n",
    "    cursor = conn.cursor()\n",
    "    response = cursor.execute(\"SELECT * FROM people\").fetchall()\n",
    "    for person in response: \n",
    "        print(person)"
   ]
  },
  {
   "cell_type": "markdown",
   "id": "57f6e3a8-3d45-48e6-b5d4-f65a9d8d751d",
   "metadata": {},
   "source": [
    "## SELECT DISTINCT(Different) data\n",
    "> Select distinct is use to only select data that is different from each other"
   ]
  },
  {
   "cell_type": "markdown",
   "id": "05a556d3-40e6-4ee9-95ef-0d61ed7f4166",
   "metadata": {},
   "source": [
    "In the ex above, there are dupicates of Dora,Cindy and Bob. Let's try to only print the unique names"
   ]
  },
  {
   "cell_type": "code",
   "execution_count": 8,
   "id": "ec7abdf0-3155-4dd3-b832-27a1df941f43",
   "metadata": {},
   "outputs": [
    {
     "name": "stdout",
     "output_type": "stream",
     "text": [
      "All people:\n",
      "('Selena', 'Thomas', 25)\n",
      "('Johnny', 'Karcol', 34)\n",
      "('Samantha', 'Grey', 21)\n",
      "('Jeremy', 'Beremy', 40)\n",
      "('Dora', 'Explora', 22)\n",
      "('Cindy', 'Dio', 90)\n",
      "('Bob', 'Billy', 50)\n",
      "('Dora', 'Explora', 22)\n",
      "('Cindy', 'Dio', 90)\n",
      "('Bob', 'Billy', 50)\n",
      "('Bruce', 'Explora', 22)\n",
      "('Glorilla', 'Dio', 90)\n",
      "('Grimes', 'Billy', 50)\n",
      "('Samantha', 'Grey', 21)\n",
      "('Samantha', 'Grey', 21)\n",
      "('Samantha', 'Grey', 21)\n",
      "('Samantha', 'Grey', 21)\n",
      "('Samantha', 'Grey', 21)\n",
      "('Samantha', 'Grey', 21)\n",
      "('Samantha', 'Barnes', 25)\n",
      "('Joe', 'Barnes', 35)\n",
      "('Sarah', 'Barnes', 25)\n",
      "Distinct people\n",
      "('Selena', 'Thomas', 25)\n",
      "('Johnny', 'Karcol', 34)\n",
      "('Samantha', 'Grey', 21)\n",
      "('Jeremy', 'Beremy', 40)\n",
      "('Dora', 'Explora', 22)\n",
      "('Cindy', 'Dio', 90)\n",
      "('Bob', 'Billy', 50)\n",
      "('Bruce', 'Explora', 22)\n",
      "('Glorilla', 'Dio', 90)\n",
      "('Grimes', 'Billy', 50)\n",
      "('Samantha', 'Barnes', 25)\n",
      "('Joe', 'Barnes', 35)\n",
      "('Sarah', 'Barnes', 25)\n"
     ]
    }
   ],
   "source": [
    "import sqlite3 \n",
    "conn = sqlite3.connect('test.db')\n",
    "with conn:\n",
    "    cursor = conn.cursor()\n",
    "    sel_all = cursor.execute('SELECT first_name,last_name,age FROM people').fetchall()\n",
    "    sel_dist = cursor.execute('SELECT DISTINCT first_name,last_name,age FROM people').fetchall()\n",
    "    print(\"All people:\")\n",
    "    for person in sel_all:\n",
    "        print(person)\n",
    "    print(\"Distinct people\")\n",
    "    for person in sel_dist: \n",
    "        print(person)"
   ]
  },
  {
   "cell_type": "markdown",
   "id": "ee3b53d7-1f75-4bc3-9643-d127adc4e080",
   "metadata": {},
   "source": [
    "### Notes\n",
    "- Notice how the returned lists are all unique names"
   ]
  },
  {
   "cell_type": "code",
   "execution_count": 14,
   "id": "f64372fb-3de1-4953-bdf3-df7f3f6f742b",
   "metadata": {},
   "outputs": [
    {
     "name": "stdout",
     "output_type": "stream",
     "text": [
      "Unique last names:\n",
      "Thomas\n",
      "Karcol\n",
      "Grey\n",
      "Beremy\n",
      "Explora\n",
      "Dio\n",
      "Billy\n",
      "Barnes\n",
      "\n",
      "Unique first names:\n",
      "Selena\n",
      "Johnny\n",
      "Samantha\n",
      "Jeremy\n",
      "Dora\n",
      "Cindy\n",
      "Bob\n",
      "Bruce\n",
      "Glorilla\n",
      "Grimes\n",
      "Joe\n",
      "Sarah\n"
     ]
    }
   ],
   "source": [
    "import sqlite3 \n",
    "conn = sqlite3.connect('test.db')\n",
    "with conn: \n",
    "    cursor = conn.cursor()\n",
    "    last_names = cursor.execute('SELECT DISTINCT last_name FROM people').fetchall()\n",
    "    first_names = cursor.execute('SELECT DISTINCT first_name FROM people').fetchall()\n",
    "    ages = cursor.execute('SELECT DISTINCT age FROM people').fetchall()\n",
    "    print('Unique last names:')\n",
    "    for person in last_names:\n",
    "        print(person[0])\n",
    "    print('\\nUnique first names:')\n",
    "    for person in first_names: \n",
    "        print(person[0])"
   ]
  },
  {
   "cell_type": "markdown",
   "id": "1930781f-c080-4047-a08d-d521c0e7a7a2",
   "metadata": {},
   "source": [
    "## Updating a table \n",
    "> Let's try inserting someone then updating them "
   ]
  },
  {
   "cell_type": "code",
   "execution_count": 2,
   "id": "8084dd4a-cef9-4aae-a72c-e794764ce1be",
   "metadata": {},
   "outputs": [
    {
     "name": "stdout",
     "output_type": "stream",
     "text": [
      "Selena Thomas is 40 years old\n",
      "Selena Thomas is 69 years old\n"
     ]
    }
   ],
   "source": [
    "import sqlite3\n",
    "conn = sqlite3.connect('test.db') \n",
    "cursor = conn.cursor()\n",
    "selena_before = cursor.execute('SELECT * FROM people WHERE first_name=\"Selena\" AND last_name=\"Thomas\"').fetchone()\n",
    "print(f'{selena_before[0]} {selena_before[1]} is {selena_before[2]} years old')\n",
    "cursor.execute(\"\"\"\n",
    "UPDATE people SET age=69 WHERE first_name=\"Selena\" AND last_name=\"Thomas\";\n",
    "\"\"\")\n",
    "selena_after = cursor.execute(\"\"\"\n",
    "SELECT first_name,last_name,age FROM people WHERE first_name=\"Selena\" AND last_name=\"Thomas\"\n",
    "\"\"\").fetchone()\n",
    "print(f'{selena_after[0]} {selena_after[1]} is {selena_after[2]} years old')\n",
    "conn.commit()\n",
    "conn.close()"
   ]
  },
  {
   "cell_type": "markdown",
   "id": "2351eb1f-57df-4e6c-a101-072930ff76a3",
   "metadata": {},
   "source": [
    "In the above example, Selena is called early to show her age then updated to be 69 rather than 40\n",
    "\n",
    "Noteworthy things: \n",
    "- Selena is targetted specifically using WHERE\n",
    "    - Selena is specified using her first AND last name using the `AND` keyword\n",
    "        - the `AND` keyword allows chaining conditions requiring all to be `true`"
   ]
  },
  {
   "cell_type": "markdown",
   "id": "ae060eab-26ef-4895-8a2b-e9171ff5e523",
   "metadata": {},
   "source": [
    "## SQlite master \n",
    "> The sqlite_master is it's own db that contains information about the other table within\n",
    "> Below we'll create a basic statement to access the tables within  "
   ]
  },
  {
   "cell_type": "code",
   "execution_count": 24,
   "id": "dbaaaccc-b1e4-421f-bbba-bfb6bf0b7ded",
   "metadata": {},
   "outputs": [
    {
     "name": "stdout",
     "output_type": "stream",
     "text": [
      " \n",
      "        Type : table\n",
      "        Table_Name: people\n",
      "        name : people\n",
      "        rootpage : 2\n",
      "        Table Creation statement : CREATE TABLE people(\n",
      "               first_name TEXT,\n",
      "               last_name TEXT,\n",
      "               age INTEGER\n",
      ")\n",
      "        \n",
      " \n",
      "        Type : table\n",
      "        Table_Name: person\n",
      "        name : person\n",
      "        rootpage : 3\n",
      "        Table Creation statement : CREATE TABLE person(\n",
      "             first_name TEXT,\n",
      "             last_name TEXT,\n",
      "             age INTEGER\n",
      "           )\n",
      "        \n"
     ]
    }
   ],
   "source": [
    "import sqlite3 \n",
    "conn = sqlite3.connect('test.db') \n",
    "with conn: \n",
    "    cursor = conn.cursor()\n",
    "    response = cursor.execute(\"\"\" SELECT type,name,tbl_name,rootpage,sql FROM sqlite_master WHERE type='table';\"\"\").fetchall()\n",
    "    for table in response:\n",
    "        print(\"\"\" \n",
    "        Type : {type}\n",
    "        Table_Name: {tbl_name}\n",
    "        name : {name}\n",
    "        rootpage : {rootpage}\n",
    "        Table Creation statement : {sql}\n",
    "        \"\"\".format(type = table[0], tbl_name = table[2], name = table[1], rootpage = table[3], sql = table[4]) )\n",
    "    conn.commit()\n",
    "conn.close()"
   ]
  },
  {
   "cell_type": "markdown",
   "id": "786a3a14-3a91-4712-b7ea-3555d775ca09",
   "metadata": {},
   "source": [
    "The information above was taken from the sql_master. It provides a good amount of information such as the sql statement used to create the db object, the type of object (in this case all tables), name and table_name of the objects (the same if type of table/view), and the rootpage\n",
    "> More info on what these all are later"
   ]
  },
  {
   "cell_type": "markdown",
   "id": "8ed6b9ec-0b8e-4097-ab71-1a95cd7f33f4",
   "metadata": {},
   "source": [
    "## Deleting from table\n",
    "> Important to say we know full CRUD"
   ]
  },
  {
   "cell_type": "code",
   "execution_count": 52,
   "id": "17cca328-28c0-4ae4-b1b2-d8b687efa30f",
   "metadata": {},
   "outputs": [
    {
     "name": "stdout",
     "output_type": "stream",
     "text": [
      "All data before manipulation\n",
      "('Selena', 'Thomas', 69)\n",
      "('Johnny', 'Karcol', 34)\n",
      "('Jeremy', 'Beremy', 40)\n",
      "('Dora', 'Explora', 22)\n",
      "('Cindy', 'Dio', 90)\n",
      "('Bob', 'Billy', 50)\n",
      "('Dora', 'Explora', 22)\n",
      "('Cindy', 'Dio', 90)\n",
      "('Bob', 'Billy', 50)\n",
      "('Bruce', 'Explora', 22)\n",
      "('Glorilla', 'Dio', 90)\n",
      "('Grimes', 'Billy', 50)\n",
      "('Samantha', 'Barnes', 25)\n",
      "('Joe', 'Barnes', 35)\n",
      "('Sarah', 'Barnes', 25)\n",
      "\n",
      "Fake data needed for deletion. Creating Samantha duplicates...\n",
      "Fake data: \n",
      "('Samantha', 'Grey', 21)\n",
      "('Samantha', 'Grey', 21)\n",
      "('Samantha', 'Grey', 21)\n",
      "('Samantha', 'Grey', 21)\n",
      "('Samantha', 'Grey', 21)\n",
      "('Samantha', 'Grey', 21)\n",
      "adding...\n",
      "\n",
      "New table:\n",
      "('Selena', 'Thomas', 69)\n",
      "('Johnny', 'Karcol', 34)\n",
      "('Jeremy', 'Beremy', 40)\n",
      "('Dora', 'Explora', 22)\n",
      "('Cindy', 'Dio', 90)\n",
      "('Bob', 'Billy', 50)\n",
      "('Dora', 'Explora', 22)\n",
      "('Cindy', 'Dio', 90)\n",
      "('Bob', 'Billy', 50)\n",
      "('Bruce', 'Explora', 22)\n",
      "('Glorilla', 'Dio', 90)\n",
      "('Grimes', 'Billy', 50)\n",
      "('Samantha', 'Barnes', 25)\n",
      "('Joe', 'Barnes', 35)\n",
      "('Sarah', 'Barnes', 25)\n",
      "('Samantha', 'Grey', 21)\n",
      "('Samantha', 'Grey', 21)\n",
      "('Samantha', 'Grey', 21)\n",
      "('Samantha', 'Grey', 21)\n",
      "('Samantha', 'Grey', 21)\n",
      "('Samantha', 'Grey', 21)\n",
      "\n",
      "Time to delete!\n",
      "Deleted!\n",
      "\n",
      "After deletion\n",
      "('Selena', 'Thomas', 69)\n",
      "('Johnny', 'Karcol', 34)\n",
      "('Jeremy', 'Beremy', 40)\n",
      "('Dora', 'Explora', 22)\n",
      "('Cindy', 'Dio', 90)\n",
      "('Bob', 'Billy', 50)\n",
      "('Dora', 'Explora', 22)\n",
      "('Cindy', 'Dio', 90)\n",
      "('Bob', 'Billy', 50)\n",
      "('Bruce', 'Explora', 22)\n",
      "('Glorilla', 'Dio', 90)\n",
      "('Grimes', 'Billy', 50)\n",
      "('Samantha', 'Barnes', 25)\n",
      "('Joe', 'Barnes', 35)\n",
      "('Sarah', 'Barnes', 25)\n"
     ]
    }
   ],
   "source": [
    "import sqlite3\n",
    "conn = sqlite3.connect('test.db')\n",
    "with conn: \n",
    "    def deleteFunc():\n",
    "        deleteCursor = conn.cursor()\n",
    "        deleteCursor.execute(\"\"\"DELETE FROM people WHERE first_name='Samantha' AND last_name='Grey' AND age=21 \"\"\")\n",
    "        print('Deleted!')\n",
    "        conn.commit()\n",
    "    def getAll():\n",
    "        getAllCursor = conn.cursor()\n",
    "        response = getAllCursor.execute('SELECT * FROM people').fetchall()\n",
    "        for person in response:\n",
    "            print(person)\n",
    "            \n",
    "    cursor = conn.cursor()\n",
    "    response = cursor.execute('SELECT * FROM people').fetchall()\n",
    "    print('All data before manipulation')\n",
    "    for person in response:\n",
    "        print(person)\n",
    "\n",
    "     Samanthas = cursor.execute(\"\"\"\n",
    "    SELECT * FROM people WHERE first_name='Samantha' AND last_name = 'Grey' AND age=21\n",
    "    \"\"\").fetchall()\n",
    "    if Samanthas:\n",
    "        deleteFunc()\n",
    "    else:\n",
    "        print('\\nFake data needed for deletion. Creating Samantha duplicates...')\n",
    "        dataToAdd = [\n",
    "            ('Samantha', 'Grey', 21),\n",
    "            ('Samantha', 'Grey', 21),\n",
    "            ('Samantha', 'Grey', 21),\n",
    "            ('Samantha', 'Grey', 21),\n",
    "            ('Samantha', 'Grey', 21),\n",
    "            ('Samantha', 'Grey', 21)\n",
    "        ]\n",
    "        print('Fake data: ')\n",
    "        for samantha in dataToAdd:\n",
    "            print(samantha)\n",
    "        print('adding...')\n",
    "        cursor.executemany(\"\"\"\n",
    "        INSERT INTO people(first_name,last_name,age)\n",
    "        VALUES(?,?,?)\n",
    "        \"\"\",dataToAdd)\n",
    "        print(\"\\nNew table:\")\n",
    "        getAll()\n",
    "        print(\"\\nTime to delete!\") \n",
    "        deleteFunc()\n",
    "        \n",
    "    print('\\nAfter deletion')\n",
    "    getAll()"
   ]
  },
  {
   "cell_type": "markdown",
   "id": "a75a1ff4-e0b2-4592-a1bc-5a44e27a5e2a",
   "metadata": {},
   "source": [
    "Noteworthy stuff:\n",
    "- `DELETE FROM table_name` is the general syntax\n",
    "    - this on it's own would delete all data from the table\n",
    "    - chaining on `WHERE` w/ conditions specifies data for deletion\n",
    "- `fetchall()` is always used when fetching more than one cell of data in the table\n",
    "    - with `fetchone()` used if it's just one\n",
    "\n",
    "Also I mean this isn't important but I'm feeling pretty comfortable just writing a good amount of python and sql code since I'm still learning both"
   ]
  },
  {
   "cell_type": "markdown",
   "id": "d09a17d7-631d-4685-afa7-8a42b5a3086f",
   "metadata": {},
   "source": [
    "## Combining AND/OR conditions\n",
    "> Let's play around a bit with finding data w/ conditions\n",
    "> I've already done this since it's not very difficult but still"
   ]
  },
  {
   "cell_type": "code",
   "execution_count": 78,
   "id": "d09b51ab-50fd-42a5-813f-be4bb74d0217",
   "metadata": {},
   "outputs": [
    {
     "name": "stdout",
     "output_type": "stream",
     "text": [
      "All Barnes family members: \n",
      "\n",
      "('Samantha', 'Barnes', 25)\n",
      "('Joe', 'Barnes', 35)\n",
      "('Sarah', 'Barnes', 25)\n",
      "\n",
      " Let's aggregate data by finding the average family member's age \n",
      "\n",
      "COUNT, SUM, AVG, MIN, and MAX are some basic aggregation commands available in SQL\n",
      "\n",
      "The average age is 28.333333333333332\n",
      "\n",
      "Let's use this data to find the older and younger siblings\n",
      "\n",
      "Older sibling: \n",
      "Joe age 35\n",
      "\n",
      "Younger siblings: \n",
      "Samantha age 25\n",
      "Sarah age 25\n"
     ]
    }
   ],
   "source": [
    "# Print all data first to look at\n",
    "import sqlite3 \n",
    "conn = sqlite3.connect('test.db')\n",
    "with conn: \n",
    "    cursor = conn.cursor()\n",
    "    response = cursor.execute('SELECT * FROM people WHERE last_name =\"Barnes\" ').fetchall()\n",
    "    print(\"All Barnes family members: \\n\")\n",
    "    for person in response:\n",
    "        print(person)\n",
    "    print(\"\"\"\\n Let's aggregate data by finding the average family member's age \\n\"\"\")\n",
    "\n",
    "    print(\"COUNT, SUM, AVG, MIN, and MAX are some basic aggregation commands available in SQL\\n\")\n",
    "\n",
    "    avg_age_result= cursor.execute('SELECT AVG(age) FROM people WHERE last_name=\"Barnes\"').fetchone()\n",
    "    avg_age = avg_age_result[0]\n",
    "    print('The average age is {avg_age}\\n'.format(avg_age=avg_age))\n",
    "    print(\"Let's use this data to find the older and younger siblings\\n\")\n",
    "    \n",
    "    older_siblings = cursor.execute(f'SELECT first_name,age FROM people WHERE age>{avg_age} AND last_name=\"Barnes\"').fetchall()\n",
    "    younger_siblings = cursor.execute(f'SELECT first_name,age FROM people WHERE age<{avg_age} AND last_name=\"Barnes\"').fetchall()\n",
    "    if len(older_siblings)> 1:\n",
    "        print(\"Older siblings: \")\n",
    "    else:\n",
    "        print(\"Older sibling: \")\n",
    "    for sibling in older_siblings:\n",
    "        print(f\"{sibling[0]} age {sibling[1]}\\n\")\n",
    "    if len(younger_siblings)> 1:\n",
    "        print(\"Younger siblings: \")\n",
    "    else:\n",
    "        print(\"Younger sibling: \")\n",
    "    for sibling in younger_siblings:\n",
    "        print(f\"{sibling[0]} age {sibling[1]}\")"
   ]
  },
  {
   "cell_type": "markdown",
   "id": "4d547c1b-5cfe-4978-ab52-0daefb7f43d3",
   "metadata": {},
   "source": [
    "Noteworthy stuff:\n",
    "- `AVG` combined w/ a `WHERE last_name=\"Barnes\"` is used to specify the average of only the Barnes family"
   ]
  },
  {
   "cell_type": "markdown",
   "id": "2cb5c1c2-6903-4b65-9dfe-40d2fd15db66",
   "metadata": {},
   "source": [
    "### More aggregations\n",
    "> Let's do some quick stats"
   ]
  },
  {
   "cell_type": "code",
   "execution_count": 102,
   "id": "dcf4f447-5d49-4904-baad-053b93b68b9c",
   "metadata": {},
   "outputs": [
    {
     "name": "stdout",
     "output_type": "stream",
     "text": [
      "All people:\n",
      "('Selena', 'Thomas', 69)\n",
      "('Johnny', 'Karcol', 34)\n",
      "('Jeremy', 'Beremy', 40)\n",
      "('Dora', 'Explora', 22)\n",
      "('Cindy', 'Dio', 90)\n",
      "('Bob', 'Billy', 50)\n",
      "('Dora', 'Explora', 22)\n",
      "('Cindy', 'Dio', 90)\n",
      "('Bob', 'Billy', 50)\n",
      "('Bruce', 'Explora', 22)\n",
      "('Glorilla', 'Dio', 90)\n",
      "('Grimes', 'Billy', 50)\n",
      "('Samantha', 'Barnes', 25)\n",
      "('Joe', 'Barnes', 35)\n",
      "('Sarah', 'Barnes', 25)\n",
      "\n",
      "Amount of ppl 15\n",
      "\n",
      "Average age of people 47.6\n",
      "\n",
      "The yougnest peole are: \n",
      "('Dora', 'Explora', 22)\n",
      "('Dora', 'Explora', 22)\n",
      "('Bruce', 'Explora', 22)\n"
     ]
    }
   ],
   "source": [
    "import sqlite3 \n",
    "conn = sqlite3.connect('test.db')\n",
    "with conn: \n",
    "    cursor = conn.cursor()\n",
    "    all_people = cursor.execute('SELECT * FROM people').fetchall()\n",
    "    print('All people:')\n",
    "    for person in all_people:\n",
    "        print(person)\n",
    "\n",
    "    count = cursor.execute('SELECT COUNT(first_name) FROM people').fetchone()\n",
    "    print('\\nAmount of ppl {0}'.format(count[0]))\n",
    "    avg_age = cursor.execute('SELECT AVG(age) FROM people').fetchone()\n",
    "    print('\\nAverage age of people {}'.format(avg_age[0]))\n",
    "\n",
    "    youngest = cursor.execute('SELECT * FROM people WHERE age = (SELECT MIN(age) FROM people)').fetchall()\n",
    "    if len(youngest) < 1:\n",
    "        print('\\nThe youngest person is:')\n",
    "    else: \n",
    "        print('\\nThe yougnest peole are: ')\n",
    "    for youngin in youngest:\n",
    "        print(youngin)"
   ]
  },
  {
   "cell_type": "markdown",
   "id": "1ac4f18d-f9a1-471a-994f-537d7cb0eaa8",
   "metadata": {},
   "source": [
    "# Alias\n",
    "> An alias can be used to return data w/ a given name\n",
    "> When using sqlite3 w/ python, the returned data is in the style of a tuple so this may initially not seem useful but using aliases can be helpful to make sure code is readable which is always a good thing "
   ]
  },
  {
   "cell_type": "code",
   "execution_count": 4,
   "id": "78dd9b9d-7026-4315-b158-dd2a722f3ae5",
   "metadata": {},
   "outputs": [
    {
     "name": "stdout",
     "output_type": "stream",
     "text": [
      "('Selena', 'Thomas', 69)\n",
      "('Johnny', 'Karcol', 34)\n",
      "('Jeremy', 'Beremy', 40)\n",
      "('Dora', 'Explora', 22)\n",
      "('Cindy', 'Dio', 90)\n",
      "('Bob', 'Billy', 50)\n",
      "('Dora', 'Explora', 22)\n",
      "('Cindy', 'Dio', 90)\n",
      "('Bob', 'Billy', 50)\n",
      "('Bruce', 'Explora', 22)\n",
      "('Glorilla', 'Dio', 90)\n",
      "('Grimes', 'Billy', 50)\n",
      "('Samantha', 'Barnes', 25)\n",
      "('Joe', 'Barnes', 35)\n",
      "('Sarah', 'Barnes', 25)\n"
     ]
    }
   ],
   "source": [
    "# Let's alias some data \n",
    "import sqlite3\n",
    "with sqlite3.connect('test.db') as conn:\n",
    "    # yeah new syntax here. Enjoy\n",
    "    cursor = conn.cursor() \n",
    "    result = cursor.execute(\"Select first_name as given_name, last_name as maden_name, age FROM people;\").fetchall()\n",
    "    for person in result:\n",
    "            print(person)"
   ]
  },
  {
   "cell_type": "markdown",
   "id": "8529e5b2-c060-4246-8e6b-a282f09005d1",
   "metadata": {},
   "source": [
    "Noteworthy things here: \n",
    "- SQL is not syntax generally not case sensitive so there were on errors in the statement\n",
    "    - still generall a good idea to just use the correct case so `SELECT` instead of `Select` here\n",
    "- The as keyword makes the statement readable but in the case of python w/ sqlite doesn't make a difference\n",
    "    - When this would make sense\n",
    "        - In a language like typescript/javascript where the data would be returned as an object (especially when using ORMs) "
   ]
  },
  {
   "cell_type": "markdown",
   "id": "929e06c5-ae5a-4f93-b232-eb5e836d0f77",
   "metadata": {},
   "source": [
    "# Subqueries \n",
    "> Subqueries can be used to create nested query\n",
    "\n",
    "> With a nested query, data can be retrieved in a row(list) to be searched through\n",
    "\n",
    "> Subqueries are especially useful for joining different tables together or checking relationships"
   ]
  },
  {
   "cell_type": "code",
   "execution_count": 6,
   "id": "ae632896-d984-410b-8e13-73d774598770",
   "metadata": {},
   "outputs": [
    {
     "name": "stdout",
     "output_type": "stream",
     "text": [
      "('Samantha', 'Barnes', 25)\n",
      "('Sarah', 'Barnes', 25)\n"
     ]
    }
   ],
   "source": [
    "import sqlite3\n",
    "with sqlite3.connect('test.db') as conn:\n",
    "    cursor = conn.cursor() \n",
    "    # This example is going to be somewhat irrelevant because the faux data isn't that large but let's try anyways\n",
    "    people = cursor.execute(\"\"\"\n",
    "    SELECT first_name, last_name, age FROM (SELECT first_name,last_name,age FROM PEOPLE WHERE last_name= 'Barnes')\n",
    "    WHERE age = 25\n",
    "    \"\"\")\n",
    "    for person in people: \n",
    "        print(person)"
   ]
  },
  {
   "cell_type": "markdown",
   "id": "352c4a43-db4a-4937-9a30-d99355b6b464",
   "metadata": {},
   "source": [
    "Noteworthy stuff: \n",
    "- The subquery returns a row of only people with the last name of Barnes which the outer query then uses to match the age\n",
    "Again the data isn't complex so it doesn't require this(could be done w/ a simple `WHERE last_name='Barnes' AND age=25` statement but still"
   ]
  },
  {
   "cell_type": "markdown",
   "id": "c8ed5651-b050-461d-9062-bdc174daa233",
   "metadata": {},
   "source": [
    "# Order by \n",
    "> ORDER BY is used to sort returned data "
   ]
  },
  {
   "cell_type": "code",
   "execution_count": 9,
   "id": "84ec92fa-de0f-47aa-a77a-3dd972c1c9c8",
   "metadata": {},
   "outputs": [
    {
     "name": "stdout",
     "output_type": "stream",
     "text": [
      "('Joe', 'Barnes', 35)\n",
      "('Samantha', 'Barnes', 25)\n",
      "('Sarah', 'Barnes', 25)\n"
     ]
    }
   ],
   "source": [
    "import sqlite3\n",
    "with sqlite3.connect('test.db') as conn:\n",
    "    cursor = conn.cursor()\n",
    "    ordered_barnes_family = cursor.execute(\"\"\"SELECT first_name, last_name, age FROM people\n",
    "        WHERE last_name='Barnes'\n",
    "        ORDER BY first_name\n",
    "        \"\"\")\n",
    "    for person in ordered_barnes_family:\n",
    "        print(person)\n"
   ]
  },
  {
   "cell_type": "markdown",
   "id": "e98c24cd-c22a-44d4-a135-8f844dfd96ee",
   "metadata": {},
   "source": [
    "Let's do another example w/ sorting by the date"
   ]
  },
  {
   "cell_type": "code",
   "execution_count": 10,
   "id": "ea150f3b-d5f3-45c1-abc3-9d799321d14d",
   "metadata": {},
   "outputs": [
    {
     "name": "stdout",
     "output_type": "stream",
     "text": [
      "('Dora', 'Explora', 22)\n",
      "('Dora', 'Explora', 22)\n",
      "('Bruce', 'Explora', 22)\n",
      "('Samantha', 'Barnes', 25)\n",
      "('Sarah', 'Barnes', 25)\n",
      "('Johnny', 'Karcol', 34)\n",
      "('Joe', 'Barnes', 35)\n",
      "('Jeremy', 'Beremy', 40)\n",
      "('Bob', 'Billy', 50)\n",
      "('Bob', 'Billy', 50)\n",
      "('Grimes', 'Billy', 50)\n",
      "('Selena', 'Thomas', 69)\n",
      "('Cindy', 'Dio', 90)\n",
      "('Cindy', 'Dio', 90)\n",
      "('Glorilla', 'Dio', 90)\n",
      "\n",
      "Barnes Fam:\n",
      "('Samantha', 'Barnes', 25)\n",
      "('Sarah', 'Barnes', 25)\n",
      "('Joe', 'Barnes', 35)\n"
     ]
    }
   ],
   "source": [
    "import sqlite3\n",
    "with sqlite3.connect('test.db') as conn:\n",
    "    cursor = conn.cursor()\n",
    "    all_people = cursor.execute(\"\"\"\n",
    "    SELECT * FROM people\n",
    "    ORDER BY age\n",
    "    \"\"\").fetchall()\n",
    "    for person in all_people:\n",
    "        print(person)\n",
    "    barnes_family = cursor.execute(\"\"\"\n",
    "    SELECT first_name,last_name,age FROM people \n",
    "    WHERE last_name='Barnes'\n",
    "    ORDER BY age\n",
    "    \"\"\").fetchall()\n",
    "    print('\\nBarnes Fam:')\n",
    "    for person in barnes_family:\n",
    "        print(person) "
   ]
  },
  {
   "cell_type": "markdown",
   "id": "5a6554dd-7ac3-4657-9aaa-952b10edd279",
   "metadata": {},
   "source": [
    "## ASC | DESC\n",
    "> Data can be ordered by ascending or descending order\n",
    ">\n",
    "> The default behavior is to order by ascending order but this can be changed by added DESC to the end of the order by statment\n",
    "> You can also add ASC at the end of the statement just for readability"
   ]
  },
  {
   "cell_type": "code",
   "execution_count": 11,
   "id": "44e90521-94b6-46c5-99e4-7407935eeca0",
   "metadata": {},
   "outputs": [
    {
     "name": "stdout",
     "output_type": "stream",
     "text": [
      "Ascending(default) order:\n",
      "('Dora', 'Explora', 22)\n",
      "('Dora', 'Explora', 22)\n",
      "('Bruce', 'Explora', 22)\n",
      "('Samantha', 'Barnes', 25)\n",
      "('Sarah', 'Barnes', 25)\n",
      "('Johnny', 'Karcol', 34)\n",
      "('Joe', 'Barnes', 35)\n",
      "('Jeremy', 'Beremy', 40)\n",
      "('Bob', 'Billy', 50)\n",
      "('Bob', 'Billy', 50)\n",
      "('Grimes', 'Billy', 50)\n",
      "('Selena', 'Thomas', 69)\n",
      "('Cindy', 'Dio', 90)\n",
      "('Cindy', 'Dio', 90)\n",
      "('Glorilla', 'Dio', 90)\n",
      "\n",
      "Descending order:\n",
      "('Cindy', 'Dio', 90)\n",
      "('Cindy', 'Dio', 90)\n",
      "('Glorilla', 'Dio', 90)\n",
      "('Selena', 'Thomas', 69)\n",
      "('Bob', 'Billy', 50)\n",
      "('Bob', 'Billy', 50)\n",
      "('Grimes', 'Billy', 50)\n",
      "('Jeremy', 'Beremy', 40)\n",
      "('Joe', 'Barnes', 35)\n",
      "('Johnny', 'Karcol', 34)\n",
      "('Samantha', 'Barnes', 25)\n",
      "('Sarah', 'Barnes', 25)\n",
      "('Dora', 'Explora', 22)\n",
      "('Dora', 'Explora', 22)\n",
      "('Bruce', 'Explora', 22)\n"
     ]
    }
   ],
   "source": [
    "import sqlite3\n",
    "with sqlite3.connect('test.db') as conn: \n",
    "    cursor = conn.cursor()\n",
    "    default_order = cursor.execute(\"\"\"\n",
    "    SELECT first_name,last_name, age FROM people \n",
    "    ORDER BY age ASC\n",
    "    \"\"\").fetchall()\n",
    "    desc_order = cursor.execute(\"\"\"\n",
    "    SELECT first_name,last_name, age FROM people \n",
    "    ORDER BY age DESC\n",
    "    \"\"\").fetchall()\n",
    "    print(\"Ascending(default) order:\")\n",
    "    for person in default_order:\n",
    "        print(person)\n",
    "    print(\"\\nDescending order:\")    \n",
    "    for person in desc_order: \n",
    "        print(person)"
   ]
  },
  {
   "cell_type": "markdown",
   "id": "c5565e13-63b1-4269-a1e8-4e440164224b",
   "metadata": {},
   "source": [
    "## ORDER BY multiple columns \n",
    "> Order by can be done w/ multiple columns\n",
    "> The order is done by the left most column first and if any data is being compared that has the same value, the data is compared using the column listed to the write in the sql statement.This is repeated until the data is succesfully ordered as specified"
   ]
  },
  {
   "cell_type": "code",
   "execution_count": 16,
   "id": "39f190a8-3510-4bde-804e-a20eb0197060",
   "metadata": {},
   "outputs": [
    {
     "ename": "ProgrammingError",
     "evalue": "You can only execute one statement at a time.",
     "output_type": "error",
     "traceback": [
      "\u001b[0;31m---------------------------------------------------------------------------\u001b[0m",
      "\u001b[0;31mProgrammingError\u001b[0m                          Traceback (most recent call last)",
      "Cell \u001b[0;32mIn[16], line 12\u001b[0m\n\u001b[1;32m      4\u001b[0m \u001b[38;5;66;03m# Because the barnes family has 2 S names, let's add some more people and chain together a longer sql statement for practice\u001b[39;00m\n\u001b[1;32m      5\u001b[0m new_barnes \u001b[38;5;241m=\u001b[39m [\n\u001b[1;32m      6\u001b[0m     (\u001b[38;5;124m'\u001b[39m\u001b[38;5;124mTimothy\u001b[39m\u001b[38;5;124m'\u001b[39m,\u001b[38;5;124m'\u001b[39m\u001b[38;5;124mBarnes\u001b[39m\u001b[38;5;124m'\u001b[39m,\u001b[38;5;241m55\u001b[39m),\n\u001b[1;32m      7\u001b[0m     (\u001b[38;5;124m'\u001b[39m\u001b[38;5;124mChio\u001b[39m\u001b[38;5;124m'\u001b[39m, \u001b[38;5;124m'\u001b[39m\u001b[38;5;124mBarnes\u001b[39m\u001b[38;5;124m'\u001b[39m, \u001b[38;5;241m42\u001b[39m),\n\u001b[0;32m   (...)\u001b[0m\n\u001b[1;32m     10\u001b[0m     (\u001b[38;5;124m'\u001b[39m\u001b[38;5;124mLorell\u001b[39m\u001b[38;5;124m'\u001b[39m,\u001b[38;5;124m'\u001b[39m\u001b[38;5;124mBarnes\u001b[39m\u001b[38;5;124m'\u001b[39m, \u001b[38;5;241m14\u001b[39m)\n\u001b[1;32m     11\u001b[0m ]\n\u001b[0;32m---> 12\u001b[0m barnes_famliy \u001b[38;5;241m=\u001b[39m \u001b[43mcursor\u001b[49m\u001b[38;5;241;43m.\u001b[39;49m\u001b[43mexecutemany\u001b[49m\u001b[43m(\u001b[49m\u001b[38;5;124;43m\"\"\"\u001b[39;49m\n\u001b[1;32m     13\u001b[0m \u001b[38;5;124;43mINSERT INTO people(first_name,last_name, age) \u001b[39;49m\n\u001b[1;32m     14\u001b[0m \u001b[38;5;124;43mVALUES(?,?,?);\u001b[39;49m\n\u001b[1;32m     15\u001b[0m \u001b[38;5;124;43mSELECT * FROM people WHERE last_name=\u001b[39;49m\u001b[38;5;124;43m\"\u001b[39;49m\u001b[38;5;124;43mBarnes\u001b[39;49m\u001b[38;5;124;43m\"\u001b[39;49m\u001b[38;5;124;43m ORDER BY last_name,first_name;\u001b[39;49m\n\u001b[1;32m     16\u001b[0m \u001b[38;5;124;43m\u001b[39;49m\u001b[38;5;124;43m\"\"\"\u001b[39;49m\u001b[43m,\u001b[49m\u001b[43mnew_barnes\u001b[49m\u001b[43m)\u001b[49m\u001b[38;5;241m.\u001b[39mfetchall()\n\u001b[1;32m     17\u001b[0m conn\u001b[38;5;241m.\u001b[39mcommit()\n\u001b[1;32m     18\u001b[0m \u001b[38;5;28;01mfor\u001b[39;00m person \u001b[38;5;129;01min\u001b[39;00m barnes_family: \n",
      "\u001b[0;31mProgrammingError\u001b[0m: You can only execute one statement at a time."
     ]
    }
   ],
   "source": [
    "import sqlite3\n",
    "with sqlite3.connect('test.db') as conn: \n",
    "    cursor = conn.cursor()\n",
    "    # Because the barnes family has 2 S names, let's add some more people and chain together a longer sql statement for practice\n",
    "    new_barnes = [\n",
    "        ('Timothy','Barnes',55),\n",
    "        ('Chio', 'Barnes', 42),\n",
    "        ('Simone', 'Barnes', 44),\n",
    "        ('Praline', 'Barnes', 12),\n",
    "        ('Lorell','Barnes', 14)\n",
    "    ]\n",
    "    barnes_famliy = cursor.executemany(\"\"\"\n",
    "    INSERT INTO people(first_name,last_name, age) \n",
    "    VALUES(?,?,?);\n",
    "    SELECT * FROM people WHERE last_name=\"Barnes\" ORDER BY last_name,first_name;\n",
    "    \"\"\",new_barnes).fetchall()\n",
    "    conn.commit()\n",
    "    for person in barnes_family: \n",
    "        print(person)\n",
    "    conn.close()"
   ]
  },
  {
   "cell_type": "markdown",
   "id": "a66d24b1-9e7c-4340-b14d-8109557ef059",
   "metadata": {},
   "source": [
    "Where's the error? \n",
    "Well the execute many statement is designed to do only one execution at a time but multiple times so I can't do the many inserts and select in one go but easy fix!"
   ]
  },
  {
   "cell_type": "code",
   "execution_count": 2,
   "id": "48d66a42-906e-4463-9ee1-fac09a2913ac",
   "metadata": {},
   "outputs": [
    {
     "name": "stdout",
     "output_type": "stream",
     "text": [
      "('Ann', 'Barnes', 12)\n",
      "('Britanny', 'Barnes', 55)\n",
      "('Britney', 'Barnes', 42)\n",
      "('Carl', 'Barnes', 55)\n",
      "('Carlton', 'Barnes', 42)\n",
      "('Chio', 'Barnes', 42)\n",
      "('Cindy', 'Barnes', 14)\n",
      "('Egle', 'Barnes', 12)\n",
      "('Gary', 'Barnes', 44)\n",
      "('Gio', 'Barnes', 14)\n",
      "('Grace', 'Barnes', 55)\n",
      "('Joe', 'Barnes', 35)\n",
      "('Karla', 'Barnes', 14)\n",
      "('Lorell', 'Barnes', 14)\n",
      "('Mort', 'Barnes', 14)\n",
      "('Norman', 'Barnes', 42)\n",
      "('Orty', 'Barnes', 12)\n",
      "('Pauline', 'Barnes', 42)\n",
      "('Praline', 'Barnes', 12)\n",
      "('Quaxy', 'Barnes', 44)\n",
      "('Ricardo', 'Barnes', 44)\n",
      "('Samantha', 'Barnes', 25)\n",
      "('Sarah', 'Barnes', 25)\n",
      "('Simone', 'Barnes', 44)\n",
      "('Timothy', 'Barnes', 55)\n",
      "('Vlad', 'Barnes', 44)\n",
      "('Wendell', 'Barnes', 12)\n",
      "('Xara', 'Barnes', 55)\n"
     ]
    }
   ],
   "source": [
    "import sqlite3\n",
    "with sqlite3.connect('test.db') as conn: \n",
    "    cursor = conn.cursor()\n",
    "    new_barnes = [\n",
    "        ('Carl','Barnes',55),\n",
    "        ('Carlton', 'Barnes', 42),\n",
    "        ('Vlad', 'Barnes', 44),\n",
    "        ('Orty', 'Barnes', 12),\n",
    "        ('Mort','Barnes', 14)\n",
    "    ]\n",
    "    cursor.executemany(\"\"\"\n",
    "    INSERT INTO people(first_name,last_name, age) \n",
    "    VALUES(?,?,?);\n",
    "    \"\"\",new_barnes).fetchall()\n",
    "    barnes_family = cursor.execute(\"\"\"SELECT * FROM people WHERE last_name=\"Barnes\" ORDER BY last_name,first_name;\"\"\")\n",
    "   \n",
    "    for person in barnes_family: \n",
    "        print(person)\n",
    "    conn.commit()"
   ]
  },
  {
   "cell_type": "markdown",
   "id": "c5114ad8-b4a2-4f78-a6cc-8f6fd7c30ec2",
   "metadata": {},
   "source": [
    "noteworthy: \n",
    "well this only does one thing because they all have the same last name is what I realize but... yeah "
   ]
  },
  {
   "cell_type": "markdown",
   "id": "386d381d-fe7e-45bd-8a29-c228644a3508",
   "metadata": {},
   "source": [
    "## Combining ASC | DESC w/ multiple columns\n",
    "> Multiple columns can be ordered by using seperate order functions\n",
    "\n",
    "`\n",
    "syntax: \n",
    "ORDER BY col_1 ASC, col_2 DESC\n",
    "`"
   ]
  },
  {
   "cell_type": "code",
   "execution_count": 5,
   "id": "639e69e8-9994-43bd-81a5-0f9775d6d8ae",
   "metadata": {},
   "outputs": [
    {
     "name": "stdout",
     "output_type": "stream",
     "text": [
      "('Wendell', 12)\n",
      "('Praline', 12)\n",
      "('Orty', 12)\n",
      "('Egle', 12)\n",
      "('Ann', 12)\n",
      "('Mort', 14)\n",
      "('Lorell', 14)\n",
      "('Karla', 14)\n",
      "('Gio', 14)\n",
      "('Cindy', 14)\n",
      "('Sarah', 25)\n",
      "('Samantha', 25)\n",
      "('Joe', 35)\n",
      "('Pauline', 42)\n",
      "('Norman', 42)\n",
      "('Chio', 42)\n",
      "('Carlton', 42)\n",
      "('Britney', 42)\n",
      "('Vlad', 44)\n",
      "('Simone', 44)\n",
      "('Ricardo', 44)\n",
      "('Quaxy', 44)\n",
      "('Gary', 44)\n",
      "('Xara', 55)\n",
      "('Timothy', 55)\n",
      "('Grace', 55)\n",
      "('Carl', 55)\n",
      "('Britanny', 55)\n"
     ]
    }
   ],
   "source": [
    "import sqlite3\n",
    "with sqlite3.connect('test.db') as conn: \n",
    "    cursor =conn.cursor()\n",
    "    barnes_by_age = cursor.execute('SELECT first_name,age FROM people WHERE last_name=\"Barnes\" ORDER BY age ASC, first_name DESC').fetchall()\n",
    "    for person in barnes_by_age:\n",
    "        print(person)"
   ]
  },
  {
   "cell_type": "markdown",
   "id": "05bf71f2-df71-442e-9a0b-68012141577c",
   "metadata": {},
   "source": [
    "Noteworthy: \n",
    "- Barnes are being organized by age first in ascending order(0-9)\n",
    "- Barnes are secondly being organized by first_name in descending order(so z-a) "
   ]
  },
  {
   "cell_type": "markdown",
   "id": "f2f7e215-10f3-4c50-af1b-90310a4e231b",
   "metadata": {},
   "source": [
    "## Using cursor to fetch\n",
    "> while looking at an example I realized something was possible that I want to try myself. It's storing data by the cursor rather than in a variable"
   ]
  },
  {
   "cell_type": "code",
   "execution_count": 3,
   "id": "87cd03a3-3b3b-4dd9-bc43-bea2016ef121",
   "metadata": {},
   "outputs": [
    {
     "name": "stdout",
     "output_type": "stream",
     "text": [
      "First search: \n",
      "(46, 'Papageno', 'Girardin', 'pgirardin19@etsy.com', 'Male')\n",
      "(51, 'Patton', 'Kelsey', 'pkelsey1e@ucla.edu', 'Genderfluid')\n",
      "(90, 'Paloma', 'Sibbson', 'psibbson2h@dagondesign.com', 'Female')\n",
      "(125, 'Patricio', 'Levitt', 'plevitt3g@washingtonpost.com', 'Male')\n",
      "(225, 'Patrizia', 'Keslake', 'pkeslake68@webnode.com', 'Female')\n",
      "(267, 'Pembroke', 'Armin', 'parmin7e@joomla.org', 'Male')\n",
      "(279, 'Phillipe', 'Aiston', 'paiston7q@cafepress.com', 'Male')\n",
      "(283, 'Pippy', 'Neill', 'pneill7u@opensource.org', 'Female')\n",
      "(303, 'Paton', 'Hogsden', 'phogsden8e@opensource.org', 'Male')\n",
      "(390, 'Pierrette', 'Gawkes', 'pgawkesat@biblegateway.com', 'Female')\n",
      "(419, 'Palmer', 'Lavington', 'plavingtonbm@prlog.org', 'Male')\n",
      "(480, 'Philomena', 'Picheford', 'ppicheforddb@arizona.edu', 'Female')\n",
      "(491, 'Paulie', 'Kippen', 'pkippendm@about.com', 'Polygender')\n",
      "(534, 'Payton', 'Farrans', 'pfarranset@buzzfeed.com', 'Male')\n",
      "(561, 'Pam', 'Greenway', 'pgreenwayfk@skype.com', 'Female')\n",
      "(637, 'Poppy', 'Wimpenny', 'pwimpennyho@mac.com', 'Female')\n",
      "(650, 'Philip', 'Croux', 'pcrouxi1@w3.org', 'Male')\n",
      "(739, 'Prentice', 'Castelijn', 'pcastelijnki@thetimes.co.uk', 'Male')\n",
      "(777, 'Phaidra', 'Raffels', 'praffelslk@economist.com', 'Polygender')\n",
      "(784, 'Parsifal', 'Boissieux', 'pboissieuxlr@sourceforge.net', 'Male')\n",
      "(806, 'Pietro', 'Jelliman', 'pjellimanmd@rakuten.co.jp', 'Male')\n",
      "(826, 'Padraic', 'Pluvier', 'ppluviermx@un.org', 'Male')\n",
      "(866, 'Peri', 'Tabor', 'ptaboro1@canalblog.com', 'Female')\n",
      "(901, 'Philis', 'Amiable', 'pamiablep0@studiopress.com', 'Female')\n",
      "(970, 'Pippy', 'Warstall', 'pwarstallqx@ed.gov', 'Female')\n",
      "(986, 'Portia', 'Dumberrill', 'pdumberrillrd@usnews.com', 'Female')\n",
      "\n",
      "Second search:\n",
      "(53, 'Luke', 'Rowsell', 'lrowsell1g@unc.edu', 'Bigender')\n",
      "(77, 'Baillie', 'Ravenshear', 'bravenshear24@opensource.org', 'Male')\n",
      "(83, 'Camilla', 'Ropkes', 'cropkes2a@drupal.org', 'Female')\n",
      "(84, 'Sari', 'Reye', 'sreye2b@mit.edu', 'Female')\n",
      "(98, 'Mickey', 'Reimer', 'mreimer2p@youku.com', 'Male')\n",
      "(151, 'Vite', 'Rodbourne', 'vrodbourne46@furl.net', 'Male')\n",
      "(159, 'Arlin', 'Rankin', 'arankin4e@t-online.de', 'Male')\n",
      "(215, 'Karlene', 'Reedshaw', 'kreedshaw5y@nymag.com', 'Female')\n",
      "(260, 'Baron', 'Rosel', 'brosel77@flavors.me', 'Male')\n",
      "(320, 'Griffith', 'Round', 'ground8v@ehow.com', 'Male')\n",
      "(329, 'Frank', 'Ripsher', 'fripsher94@ycombinator.com', 'Female')\n",
      "(401, 'Caralie', 'Rosterne', 'crosterneb4@unc.edu', 'Female')\n",
      "(483, 'Grier', 'Renac', 'grenacde@nymag.com', 'Female')\n",
      "(511, 'L;urette', 'Roark', 'lroarke6@cnet.com', 'Female')\n",
      "(516, 'Becca', 'Rotlauf', 'brotlaufeb@usa.gov', 'Female')\n",
      "(560, 'Sayers', 'Russ', 'srussfj@timesonline.co.uk', 'Male')\n",
      "(565, 'Gannon', 'Rosenstengel', 'grosenstengelfo@ycombinator.com', 'Male')\n",
      "(580, 'Georgine', 'Renbold', 'grenboldg3@slate.com', 'Female')\n",
      "(581, 'Elonore', 'Reding', 'eredingg4@webeden.co.uk', 'Female')\n",
      "(592, 'Baxy', 'Rihosek', 'brihosekgf@chron.com', 'Male')\n",
      "(601, 'Leroy', 'Renney', 'lrenneygo@drupal.org', 'Male')\n",
      "(615, 'Desirae', 'Risman', 'drismanh2@wordpress.org', 'Female')\n",
      "(633, 'Saunderson', 'Ross', 'srosshk@angelfire.com', 'Male')\n",
      "(647, 'Ilka', 'Reynault', 'ireynaulthy@springer.com', 'Genderfluid')\n",
      "(663, 'Hedwig', 'Rudledge', 'hrudledgeie@tripadvisor.com', 'Female')\n",
      "(668, 'Ailey', 'Ramsay', 'aramsayij@home.pl', 'Female')\n",
      "(672, 'Cy', 'Redshaw', 'credshawin@mac.com', 'Male')\n",
      "(691, 'Marylinda', 'Rawle', 'mrawlej6@apple.com', 'Female')\n",
      "(727, 'Brigit', 'Riepl', 'brieplk6@seesaa.net', 'Female')\n",
      "(741, 'Jonathon', 'Remer', 'jremerkk@prweb.com', 'Male')\n",
      "(777, 'Phaidra', 'Raffels', 'praffelslk@economist.com', 'Polygender')\n",
      "(783, 'Alameda', 'Romero', 'aromerolq@wp.com', 'Female')\n",
      "(797, 'Oliver', 'Renouf', 'orenoufm4@imageshack.us', 'Male')\n",
      "(824, 'Kailey', 'Rycroft', 'krycroftmv@oaic.gov.au', 'Female')\n",
      "(829, 'Ebonee', 'Reboulet', 'erebouletn0@ovh.net', 'Female')\n",
      "(832, 'Saul', 'Radki', 'sradkin3@deliciousdays.com', 'Male')\n",
      "(859, 'Mignon', 'Robuchon', 'mrobuchonnu@histats.com', 'Female')\n",
      "(878, 'Jacobo', 'Rozsa', 'jrozsaod@hatena.ne.jp', 'Male')\n",
      "(879, 'Wynn', 'Rickasse', 'wrickasseoe@va.gov', 'Polygender')\n",
      "(884, 'Angelika', 'Rowledge', 'arowledgeoj@umn.edu', 'Female')\n",
      "(903, 'Torey', 'Rix', 'trixp2@webmd.com', 'Male')\n",
      "(922, 'Godard', 'Rosedale', 'grosedalepl@netlog.com', 'Male')\n",
      "(958, 'Lorant', 'Rigmond', 'lrigmondql@techcrunch.com', 'Male')\n"
     ]
    }
   ],
   "source": [
    "import sqlite3\n",
    "with sqlite3.connect('test.db') as conn:\n",
    "    cursor = conn.cursor()\n",
    "    cursor.execute('SELECT * FROM MOCK_DATA WHERE first_name LIKE \"p%\"')\n",
    "    print('First search: ')\n",
    "    for person in cursor.fetchall():\n",
    "        print(person)\n",
    "    cursor.execute('SELECT * FROM MOCK_DATA WHERE last_name LIKE \"R%\"')\n",
    "    print('\\nSecond search:')\n",
    "    for person in cursor.fetchall():\n",
    "        print(person)"
   ]
  },
  {
   "cell_type": "markdown",
   "id": "837950cf-3326-459b-95dd-bd81d72c886e",
   "metadata": {},
   "source": [
    "The cursor.fetchall() result was looped over rather than first putting it into a variable. This isn't too SQL specific but as I've been getting better at this programing thing, I can see more value in code that's functional but shorter. I just don't want to sacrifice readability ever and I think this does pretty well for balance\n"
   ]
  },
  {
   "cell_type": "markdown",
   "id": "98204a20-1113-4fc2-91fb-1d57c3c557c9",
   "metadata": {},
   "source": [
    "## Substrings\n",
    ">Substrings are extracted string data from larger strings. You can partially extract string data such as emails"
   ]
  },
  {
   "cell_type": "code",
   "execution_count": 9,
   "id": "710300ea-7f85-426c-b61a-f03f7b8d93a2",
   "metadata": {},
   "outputs": [
    {
     "name": "stdout",
     "output_type": "stream",
     "text": [
      "('@github.com',)\n",
      "('@marketwatch.com',)\n",
      "('@uol.com.br',)\n",
      "('@netvibes.com',)\n",
      "('@rambler.ru',)\n",
      "('@fda.gov',)\n",
      "('@ftc.gov',)\n",
      "('@jalbum.net',)\n",
      "('@cisco.com',)\n",
      "('@bing.com',)\n"
     ]
    }
   ],
   "source": [
    "import sqlite3\n",
    "with sqlite3.connect('test.db') as conn:\n",
    "    cursor=conn.cursor()\n",
    "    cursor.execute(' SELECT SUBSTR(email,INSTR(email,\"@\")) FROM MOCK_DATA LIMIT 10')\n",
    "    for email in cursor.fetchall():\n",
    "        print(email)"
   ]
  },
  {
   "cell_type": "markdown",
   "id": "439932c4-fece-4f29-a339-dd95b431d4c6",
   "metadata": {},
   "source": [
    "Let's break this down:\n",
    "- The SUBSTR syntax\n",
    "    `SUBSTR(string, start, length)`\n",
    "    - this tells SQL to search the string from this index and return this much in length from that start\n",
    "        - SQL starts index at 1 not 0\n",
    "- INSTR is used by substrings to search for a given character within the string\n",
    "    `SUBSTR(string, INSTR(string, '@'))`\n",
    "    - This tells SQL to Search the string, starting at whatever character the '@' is at\n",
    "\n",
    "Let's combine this again in another example"
   ]
  },
  {
   "cell_type": "code",
   "execution_count": 28,
   "id": "d0bd8101-af3d-4da6-b097-a040a61207aa",
   "metadata": {},
   "outputs": [
    {
     "name": "stdout",
     "output_type": "stream",
     "text": [
      "With full: @github.com\n",
      "Without full: github.com\n",
      "\n",
      "With full: @marketwatch.com\n",
      "Without full: marketwatch.com\n",
      "\n"
     ]
    }
   ],
   "source": [
    "import sqlite3\n",
    "with sqlite3.connect('test.db') as conn:\n",
    "    cursor = conn.cursor()\n",
    "    cursor.execute(\"\"\"SELECT SUBSTR(email, INSTR(email,\"@\")+1,INSTR(email,\".com\")+1 ) as result,\n",
    "    SUBSTR(email,INSTR(email, '@'), INSTR(email,'.com')) as trimmed\n",
    "    FROM MOCK_DATA \n",
    "    WHERE result is NOT \"\" AND trimmed is NOT \"\"\n",
    "    LIMIT 2\n",
    "    \"\"\")\n",
    "    for email in cursor.fetchall():\n",
    "        print(f'With full: {email[1]}')\n",
    "        print(f'Without full: {email[0]}\\n')"
   ]
  },
  {
   "cell_type": "markdown",
   "id": "0c83f765-af1e-4ba5-80f9-8faaba4233ef",
   "metadata": {},
   "source": [
    "This one also did a lot so let's break it down\n",
    "`SUBSTR(email, INSTR(email, '@'), INSTR(email,'.com'))`\n",
    "SUBSTR(email,start, length)\n",
    "- `SUBSTR (substring)`\n",
    "- email - the email column taken from the table\n",
    "- start/`INSTR(email, '@')`\n",
    "    - In this case index is whatever the `INSTR` returns where the '@' is\n",
    "- length `INSTR(email,'.com'`\n",
    "    - In this case length is up to wherever the .com is (the end of it)"
   ]
  },
  {
   "cell_type": "markdown",
   "id": "8f4f5a90-3098-44dd-a50d-cb55f8b1f569",
   "metadata": {},
   "source": [
    "Although the way that I've been doing it makes for cleaner code overall, it's a lot of repetition so I'm just going to define this here to be used throughout this file: "
   ]
  },
  {
   "cell_type": "code",
   "execution_count": 4,
   "id": "8eef6e1b-d637-4c15-8f0d-3a9749bd7c06",
   "metadata": {},
   "outputs": [],
   "source": [
    "import sqlite3\n",
    "conn = sqlite3.connect('test.db')\n",
    "cursor = conn.cursor()"
   ]
  },
  {
   "cell_type": "code",
   "execution_count": 5,
   "id": "17eaea76-f51b-4667-ae15-bf6bf2f57522",
   "metadata": {},
   "outputs": [
    {
     "name": "stdout",
     "output_type": "stream",
     "text": [
      "[(1, 'Aldrich', 'Hadkins', 'ahadkins0@dedecms.com', 'Male'), (2, 'Ynez', 'Brock', 'ybrock1@sina.com.cn', 'Female'), (3, 'Minne', 'Flores', 'mflores2@newsvine.com', 'Female'), (4, 'Morgen', 'Myall', 'mmyall3@domainmarket.com', 'Male'), (5, 'Wade', 'Moakson', 'wmoakson4@oakley.com', 'Bigender')]\n"
     ]
    }
   ],
   "source": [
    "print(cursor.execute('SELECT * FROM MOCK_DATA LIMIT 5').fetchall())"
   ]
  },
  {
   "cell_type": "markdown",
   "id": "9e4401b0-6efb-4d52-864e-fcf7f9798111",
   "metadata": {},
   "source": [
    "New dataset to mess around with. I created a dating site dataset using [mockaroo](https://mockaroo.com/) "
   ]
  },
  {
   "cell_type": "code",
   "execution_count": 13,
   "id": "034cb83f-87d0-4def-91d8-989f634ce47a",
   "metadata": {},
   "outputs": [
    {
     "name": "stdout",
     "output_type": "stream",
     "text": [
      "Table\n",
      "('CREATE TABLE dating_data(\\n'\n",
      " '  id INTEGER PRIMARY KEY,\\n'\n",
      " '  first_name TEXT NOT NULL,\\n'\n",
      " '  last_name TEXT NOT NULL,\\n'\n",
      " '  description TEXT NOT NULL,\\n'\n",
      " '  state TEXT NOT NULL,\\n'\n",
      " '  single INTEGER NOT NULL,\\n'\n",
      " '  gender TEXT,\\n'\n",
      " '  queer INTEGER DEFAULT 0\\n'\n",
      " ')',)\n",
      "\n",
      "sample data\n",
      "(1, 'Udale', 'McRoberts', 'Implemented web-enabled neural-net', 'IN', 0, 'Male', 1)\n",
      "(2, 'Charla', 'MacConchie', 'Profit-focused empowering capability', 'FL', 1, 'Female', 1)\n",
      "(3, 'Tersina', 'Pendle', 'Digitized optimal knowledge user', 'TX', 1, None, 0)\n",
      "(4, 'Vicky', 'Clubley', 'Progressive mission-critical software', 'CA', 0, 'Female', 0)\n",
      "(5, 'Tim', 'Thurner', 'Configurable value-added database', 'FL', 1, 'Agender', 1)\n"
     ]
    }
   ],
   "source": [
    "from pprint import pprint\n",
    "if cursor:\n",
    "    print(\"Table\")\n",
    "\n",
    "    pprint(cursor.execute('SELECT sql FROM sqlite_master WHERE name=\"dating_data\" AND type=\"table\"').fetchone()) \n",
    "    \n",
    "    print('\\nsample data')\n",
    "    result = cursor.execute('SELECT * FROM dating_data LIMIT 5')\n",
    "    for person in result:\n",
    "        print(person)\n",
    "else: \n",
    "    print(\"cursor hasn't loaded\")"
   ]
  },
  {
   "cell_type": "markdown",
   "id": "03ea4b8a-3b24-4556-a376-15dd7e90622c",
   "metadata": {},
   "source": [
    "To understand the thought process behind this table for future use: \n",
    "- **id** is auto generated as the primary key\n",
    "- **first_name** AND **last_name** AND **description** are present in all as TEXT\n",
    "- **state** is abbreviated and present in all\n",
    "- **single** as a boolean to represent dating status is present in all\n",
    "- **gender** as a text with gender is present in all\n",
    "- **queer** as a boolean w/ a default status of *false* is present "
   ]
  },
  {
   "cell_type": "code",
   "execution_count": 22,
   "id": "d6d1d272-d927-4d5e-a8a6-6874ad646c5a",
   "metadata": {},
   "outputs": [
    {
     "name": "stdout",
     "output_type": "stream",
     "text": [
      "floridians only sample!\n",
      "\n",
      "(2, 'Charla', 'MacConchie', 'Profit-focused empowering capability', 'FL', 1, 'Female', 1)\n",
      "(5, 'Tim', 'Thurner', 'Configurable value-added database', 'FL', 1, 'Agender', 1)\n",
      "(39, 'Roxanne', 'Buckthorpe', 'Assimilated multi-tasking firmware', 'FL', 0, 'Female', 1)\n",
      "(52, 'Wallie', 'Allcock', 'Advanced global projection', 'FL', 0, 'Genderfluid', 1)\n",
      "(64, 'Nancey', 'La Torre', 'Open-architected human-resource knowledge user', 'FL', 1, None, 1)\n",
      "(66, 'Corey', 'Dartan', 'Ameliorated optimizing application', 'FL', 0, None, 0)\n",
      "(85, 'Corene', 'Rickwood', 'Exclusive impactful open system', 'FL', 1, 'Polygender', 1)\n",
      "(87, 'Wilmer', 'Baake', 'Configurable bi-directional alliance', 'FL', 0, None, 0)\n",
      "(103, 'Stavro', 'Immings', 'Upgradable object-oriented info-mediaries', 'FL', 1, 'Agender', 1)\n",
      "(127, 'Nara', 'Keuneke', 'Fully-configurable exuding hardware', 'FL', 1, None, 1)\n",
      "\n",
      "There are: 74 floridians total on this site\n"
     ]
    }
   ],
   "source": [
    "#let's match some ppl \n",
    "# floridians only\n",
    "\n",
    "if cursor: \n",
    "\n",
    "    cursor.execute('SELECT * FROM dating_data WHERE state=\"FL\" LIMIT 10')\n",
    "    print(\"floridians only sample!\\n\")\n",
    "    for floridian in cursor.fetchall():\n",
    "        print(floridian)\n",
    "    print(f\"\"\"\\nThere are: {cursor.execute(f\"\"\"SELECT COUNT(*) FROM dating_data WHERE state=\"FL\"\n",
    "    \"\"\").fetchone()[0]} floridians total on this site\"\"\")\n",
    "else:\n",
    "    print('cursor not present!')"
   ]
  },
  {
   "cell_type": "code",
   "execution_count": 55,
   "id": "d18982ec-24f1-4e38-a885-14934c100e7d",
   "metadata": {},
   "outputs": [
    {
     "name": "stdout",
     "output_type": "stream",
     "text": [
      "There are 8 Types of genders here, excluding no gender given\n",
      "\n",
      "Listing...\n",
      "\n",
      "Male\n",
      "Female\n",
      "Agender\n",
      "Non-binary\n",
      "Genderqueer\n",
      "Bigender\n",
      "Genderfluid\n",
      "Polygender\n"
     ]
    }
   ],
   "source": [
    "if cursor:\n",
    "    def retrieveGenderCount():\n",
    "        return cursor.execute(\"SELECT COUNT(DISTINCT gender) FROM dating_data WHERE gender is NOT 'NULL'\").fetchone()[0]\n",
    "    print(\n",
    "    f\"\"\"There are {retrieveGenderCount()} Types of genders here, excluding no gender given\"\"\")\n",
    "\n",
    "    print(\"\\nListing...\\n\")\n",
    "\n",
    "    cursor.execute(\"SELECT DISTINCT gender FROM dating_data WHERE gender <> 'None'\")\n",
    "    for gender in cursor.fetchall():\n",
    "        print(gender[0])"
   ]
  },
  {
   "cell_type": "markdown",
   "id": "83837858-ac5f-441b-b37d-e4a9aacc276e",
   "metadata": {},
   "source": [
    "Noteworthy: \n",
    "- In order to make sure I could count the distinct genders, I had to use the syntax of `SELECT COUNT(DISTINCT gender)`\n",
    "- The **not equal to** syntax in SQL Is `<>`\n",
    "    - but `!=` also works in sqlite here but for overall support `<>` is best used"
   ]
  },
  {
   "cell_type": "code",
   "execution_count": 63,
   "id": "cf72f927-32e2-4256-a997-a2291025114f",
   "metadata": {},
   "outputs": [
    {
     "name": "stdout",
     "output_type": "stream",
     "text": [
      "There are people from 49 different states on this site\n",
      "['IN', 'FL', 'TX', 'CA', 'VA', 'NY', 'MS', 'MI', 'LA', 'TN', 'AR', 'OK', 'SC', 'MN', 'KY', 'WI', 'ID', 'AZ', 'NC', 'MO', 'NE', 'CO', 'OH', 'MA', 'IL', 'NM', 'AL', 'HI', 'PA', 'KS', 'DC', 'GA', 'WV', 'MD', 'CT', 'WA', 'UT', 'DE', 'IA', 'NV', 'AK', 'NJ', 'OR', 'ND', 'MT', 'SD', 'RI', 'WY', 'ME']\n"
     ]
    }
   ],
   "source": [
    "if cursor: \n",
    "    state_count = cursor.execute(\"SELECT COUNT(DISTINCT state) FROM dating_data\").fetchone()[0]\n",
    "    print(\"There are people from {} different states on this site\".format(state_count))\n",
    "    states = cursor.execute('SELECT DISTINCT state FROM dating_data').fetchall()\n",
    "    state_list = []\n",
    "    for state in states:\n",
    "        state_list.append(state[0])\n",
    "    for i = 0;"
   ]
  },
  {
   "cell_type": "markdown",
   "id": "588ae119-5675-4922-92c2-76e03654fd50",
   "metadata": {},
   "source": [
    "I'm getting about ready to make something w/ sql so let's rapid fire what I've been learning to get somewhere with it "
   ]
  },
  {
   "cell_type": "markdown",
   "id": "9e0e23eb-cdb0-4e05-97ea-1de4db5135a4",
   "metadata": {},
   "source": [
    "## Offset \n",
    "> Offset is used to skip a certain number of results before printing results"
   ]
  },
  {
   "cell_type": "code",
   "execution_count": null,
   "id": "5db2041f-5c74-4728-b107-dcd03c85eba0",
   "metadata": {},
   "outputs": [],
   "source": [
    "import sqlite3\n",
    "with sqlite3.connect('test.db') as conn:\n",
    "    cursor = conn.cursor()\n",
    "    cursor.execute('SELECT * from MOCK_DATA LIMIT 10')\n",
    "    print(cursor.fetchall())"
   ]
  },
  {
   "cell_type": "code",
   "execution_count": null,
   "id": "8f6a5aa6-1872-4a78-9a44-8e57afa41654",
   "metadata": {},
   "outputs": [],
   "source": []
  }
 ],
 "metadata": {
  "kernelspec": {
   "display_name": "Python 3 (ipykernel)",
   "language": "python",
   "name": "python3"
  },
  "language_info": {
   "codemirror_mode": {
    "name": "ipython",
    "version": 3
   },
   "file_extension": ".py",
   "mimetype": "text/x-python",
   "name": "python",
   "nbconvert_exporter": "python",
   "pygments_lexer": "ipython3",
   "version": "3.12.6"
  }
 },
 "nbformat": 4,
 "nbformat_minor": 5
}
